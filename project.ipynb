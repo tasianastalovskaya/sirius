{
 "cells": [
  {
   "cell_type": "markdown",
   "id": "780d24eb",
   "metadata": {},
   "source": [
    "# обработка датасета"
   ]
  },
  {
   "cell_type": "code",
   "execution_count": 2,
   "id": "a8ab5363",
   "metadata": {},
   "outputs": [
    {
     "name": "stdout",
     "output_type": "stream",
     "text": [
      "Requirement already satisfied: pandas in ./opt/anaconda3/lib/python3.9/site-packages (1.4.2)\n",
      "Requirement already satisfied: python-dateutil>=2.8.1 in ./opt/anaconda3/lib/python3.9/site-packages (from pandas) (2.8.2)\n",
      "Requirement already satisfied: pytz>=2020.1 in ./opt/anaconda3/lib/python3.9/site-packages (from pandas) (2021.3)\n",
      "Requirement already satisfied: numpy>=1.18.5 in ./opt/anaconda3/lib/python3.9/site-packages (from pandas) (1.21.5)\n",
      "Requirement already satisfied: six>=1.5 in ./opt/anaconda3/lib/python3.9/site-packages (from python-dateutil>=2.8.1->pandas) (1.16.0)\n"
     ]
    }
   ],
   "source": [
    "!pip install pandas"
   ]
  },
  {
   "cell_type": "code",
   "execution_count": 3,
   "id": "fd0aa367",
   "metadata": {},
   "outputs": [],
   "source": [
    "import pandas as pd\n",
    "import numpy as np\n",
    "import matplotlib.pyplot as plt\n",
    "import seaborn as sns"
   ]
  },
  {
   "cell_type": "code",
   "execution_count": 4,
   "id": "89142162",
   "metadata": {},
   "outputs": [
    {
     "data": {
      "text/plain": [
       "Gospel/Religioso                             244\n",
       "Sertanejo                                     97\n",
       "Funk Carioca                                  61\n",
       "Indie                                         53\n",
       "Pop                                           49\n",
       "                                            ... \n",
       "Gospel/Religioso; Jovem Guarda                 1\n",
       "Gospel/Religioso; Instrumental; Pop            1\n",
       "Gospel/Religioso; Soul Music; Black Music      1\n",
       "Heavy Metal; Hardcore; Gospel/Religioso        1\n",
       "World Music; Black Music; Blues                1\n",
       "Name: Genres, Length: 1750, dtype: int64"
      ]
     },
     "execution_count": 4,
     "metadata": {},
     "output_type": "execute_result"
    }
   ],
   "source": [
    "artist = pd.read_csv('/Users/tasia/Desktop/artists-data.csv')\n",
    "link_genre = artist[['Link', 'Genres']]\n",
    "link_genre.duplicated(subset = 'Link', keep = 'first').value_counts()\n",
    "link_genre.Genres.value_counts()"
   ]
  },
  {
   "cell_type": "code",
   "execution_count": 5,
   "id": "05fbe04d",
   "metadata": {},
   "outputs": [
    {
     "data": {
      "text/html": [
       "<div>\n",
       "<style scoped>\n",
       "    .dataframe tbody tr th:only-of-type {\n",
       "        vertical-align: middle;\n",
       "    }\n",
       "\n",
       "    .dataframe tbody tr th {\n",
       "        vertical-align: top;\n",
       "    }\n",
       "\n",
       "    .dataframe thead th {\n",
       "        text-align: right;\n",
       "    }\n",
       "</style>\n",
       "<table border=\"1\" class=\"dataframe\">\n",
       "  <thead>\n",
       "    <tr style=\"text-align: right;\">\n",
       "      <th></th>\n",
       "      <th>ALink</th>\n",
       "      <th>Lyric</th>\n",
       "    </tr>\n",
       "  </thead>\n",
       "  <tbody>\n",
       "    <tr>\n",
       "      <th>69</th>\n",
       "      <td>/ivete-sangalo/</td>\n",
       "      <td>I feel so unsure\\nAs I take your hand and lead...</td>\n",
       "    </tr>\n",
       "    <tr>\n",
       "      <th>86</th>\n",
       "      <td>/ivete-sangalo/</td>\n",
       "      <td>Don't let them fool, ya\\nOr even try to school...</td>\n",
       "    </tr>\n",
       "    <tr>\n",
       "      <th>88</th>\n",
       "      <td>/ivete-sangalo/</td>\n",
       "      <td>Baby, let's cruise, away from here\\nDon't be c...</td>\n",
       "    </tr>\n",
       "    <tr>\n",
       "      <th>111</th>\n",
       "      <td>/ivete-sangalo/</td>\n",
       "      <td>Know it sounds funny\\nBut, I just can't stand ...</td>\n",
       "    </tr>\n",
       "    <tr>\n",
       "      <th>140</th>\n",
       "      <td>/ivete-sangalo/</td>\n",
       "      <td>You've got that look again\\nThe one I hoped I ...</td>\n",
       "    </tr>\n",
       "  </tbody>\n",
       "</table>\n",
       "</div>"
      ],
      "text/plain": [
       "               ALink                                              Lyric\n",
       "69   /ivete-sangalo/  I feel so unsure\\nAs I take your hand and lead...\n",
       "86   /ivete-sangalo/  Don't let them fool, ya\\nOr even try to school...\n",
       "88   /ivete-sangalo/  Baby, let's cruise, away from here\\nDon't be c...\n",
       "111  /ivete-sangalo/  Know it sounds funny\\nBut, I just can't stand ...\n",
       "140  /ivete-sangalo/  You've got that look again\\nThe one I hoped I ..."
      ]
     },
     "execution_count": 5,
     "metadata": {},
     "output_type": "execute_result"
    }
   ],
   "source": [
    "lyric = pd.read_csv('/Users/tasia/Desktop/lyrics-data.csv')\n",
    "eng_lyrics = lyric.drop(lyric[lyric['language'] !='en'].index)\n",
    "eng_lyrics.duplicated(subset = 'SLink', keep = 'first').value_counts()\n",
    "eng_lyrics.drop_duplicates(subset='SLink', keep='first', inplace=True, ignore_index=False)\n",
    "eng_lyrics.drop_duplicates(inplace=True)\n",
    "lyrics = eng_lyrics[['ALink', 'Lyric']]\n",
    "lyrics.head()"
   ]
  },
  {
   "cell_type": "code",
   "execution_count": 6,
   "id": "9128014b",
   "metadata": {},
   "outputs": [
    {
     "data": {
      "text/plain": [
       "Country                                  4774\n",
       "Rock                                     4671\n",
       "Heavy Metal                              4394\n",
       "Indie                                    4289\n",
       "Rap; Hip Hop                             3425\n",
       "                                         ... \n",
       "J-Pop/J-Rock; Rock; Trilha Sonora           1\n",
       "Surf Music; Reggae; Romântico               1\n",
       "Pop/Rock; Dance; Romântico                  1\n",
       "J-Pop/J-Rock; Trilha Sonora; Pop/Rock       1\n",
       "Reggaeton; Reggae; Axé                      1\n",
       "Name: Genres, Length: 1190, dtype: int64"
      ]
     },
     "execution_count": 6,
     "metadata": {},
     "output_type": "execute_result"
    }
   ],
   "source": [
    "data = pd.merge(lyrics, link_genre, how='inner', left_on='ALink', right_on='Link')\n",
    "data = data.drop(['ALink','Link'], axis=1)\n",
    "data.Genres.value_counts()"
   ]
  },
  {
   "cell_type": "code",
   "execution_count": 7,
   "id": "61ed8ed1",
   "metadata": {},
   "outputs": [],
   "source": [
    "filter_df = data.groupby(\"Genres\").filter(lambda x: len(x) > 3000)"
   ]
  },
  {
   "cell_type": "code",
   "execution_count": 8,
   "id": "20bcbc3c",
   "metadata": {},
   "outputs": [
    {
     "data": {
      "text/plain": [
       "Country         4774\n",
       "Rock            4671\n",
       "Heavy Metal     4394\n",
       "Indie           4289\n",
       "Rap; Hip Hop    3425\n",
       "Name: Genres, dtype: int64"
      ]
     },
     "execution_count": 8,
     "metadata": {},
     "output_type": "execute_result"
    }
   ],
   "source": [
    "filter_df.Genres.value_counts()"
   ]
  },
  {
   "cell_type": "code",
   "execution_count": 9,
   "id": "885a6014",
   "metadata": {},
   "outputs": [],
   "source": [
    "filter_df.reset_index(drop= True , inplace= True)\n",
    "dt = filter_df"
   ]
  },
  {
   "cell_type": "code",
   "execution_count": 10,
   "id": "601497a1",
   "metadata": {},
   "outputs": [
    {
     "data": {
      "text/html": [
       "<div>\n",
       "<style scoped>\n",
       "    .dataframe tbody tr th:only-of-type {\n",
       "        vertical-align: middle;\n",
       "    }\n",
       "\n",
       "    .dataframe tbody tr th {\n",
       "        vertical-align: top;\n",
       "    }\n",
       "\n",
       "    .dataframe thead th {\n",
       "        text-align: right;\n",
       "    }\n",
       "</style>\n",
       "<table border=\"1\" class=\"dataframe\">\n",
       "  <thead>\n",
       "    <tr style=\"text-align: right;\">\n",
       "      <th></th>\n",
       "      <th>Lyric</th>\n",
       "      <th>Genres</th>\n",
       "    </tr>\n",
       "  </thead>\n",
       "  <tbody>\n",
       "    <tr>\n",
       "      <th>0</th>\n",
       "      <td>Two young people without a thing\\nSay some vow...</td>\n",
       "      <td>Country</td>\n",
       "    </tr>\n",
       "    <tr>\n",
       "      <th>1</th>\n",
       "      <td>Here we are, talkin' 'bout forever\\nBoth know ...</td>\n",
       "      <td>Country</td>\n",
       "    </tr>\n",
       "    <tr>\n",
       "      <th>2</th>\n",
       "      <td>When I look into your soft green eyes\\nAnd whe...</td>\n",
       "      <td>Country</td>\n",
       "    </tr>\n",
       "    <tr>\n",
       "      <th>3</th>\n",
       "      <td>Way down yonder on the Chattahoochee\\nIt gets ...</td>\n",
       "      <td>Country</td>\n",
       "    </tr>\n",
       "    <tr>\n",
       "      <th>4</th>\n",
       "      <td>Have a little love on a little honeymoon\\nYou ...</td>\n",
       "      <td>Country</td>\n",
       "    </tr>\n",
       "    <tr>\n",
       "      <th>...</th>\n",
       "      <td>...</td>\n",
       "      <td>...</td>\n",
       "    </tr>\n",
       "    <tr>\n",
       "      <th>21548</th>\n",
       "      <td>Live as one will come a son\\nLove's a thing th...</td>\n",
       "      <td>Rock</td>\n",
       "    </tr>\n",
       "    <tr>\n",
       "      <th>21549</th>\n",
       "      <td>Alright, my name's Gary.\\nLet's go, it's beat ...</td>\n",
       "      <td>Rock</td>\n",
       "    </tr>\n",
       "    <tr>\n",
       "      <th>21550</th>\n",
       "      <td>Met her on a blind date, helping out an old ma...</td>\n",
       "      <td>Rock</td>\n",
       "    </tr>\n",
       "    <tr>\n",
       "      <th>21551</th>\n",
       "      <td>Got a reason to laugh,\\nGot a reason to cry.\\n...</td>\n",
       "      <td>Rock</td>\n",
       "    </tr>\n",
       "    <tr>\n",
       "      <th>21552</th>\n",
       "      <td>Hey, fella,\\nWhat you doin' with that girl ove...</td>\n",
       "      <td>Rock</td>\n",
       "    </tr>\n",
       "  </tbody>\n",
       "</table>\n",
       "<p>21553 rows × 2 columns</p>\n",
       "</div>"
      ],
      "text/plain": [
       "                                                   Lyric   Genres\n",
       "0      Two young people without a thing\\nSay some vow...  Country\n",
       "1      Here we are, talkin' 'bout forever\\nBoth know ...  Country\n",
       "2      When I look into your soft green eyes\\nAnd whe...  Country\n",
       "3      Way down yonder on the Chattahoochee\\nIt gets ...  Country\n",
       "4      Have a little love on a little honeymoon\\nYou ...  Country\n",
       "...                                                  ...      ...\n",
       "21548  Live as one will come a son\\nLove's a thing th...     Rock\n",
       "21549  Alright, my name's Gary.\\nLet's go, it's beat ...     Rock\n",
       "21550  Met her on a blind date, helping out an old ma...     Rock\n",
       "21551  Got a reason to laugh,\\nGot a reason to cry.\\n...     Rock\n",
       "21552  Hey, fella,\\nWhat you doin' with that girl ove...     Rock\n",
       "\n",
       "[21553 rows x 2 columns]"
      ]
     },
     "execution_count": 10,
     "metadata": {},
     "output_type": "execute_result"
    }
   ],
   "source": [
    "dt"
   ]
  },
  {
   "cell_type": "code",
   "execution_count": 11,
   "id": "c734c5a3",
   "metadata": {},
   "outputs": [
    {
     "data": {
      "image/png": "[encoded data removed]",
      "text/plain": [
       "<Figure size 720x360 with 1 Axes>"
      ]
     },
     "metadata": {
      "needs_background": "light"
     },
     "output_type": "display_data"
    }
   ],
   "source": [
    "plt.figure(figsize=(10,5))\n",
    "\n",
    "sns.countplot(x='Genres', data=dt)\n",
    "\n",
    "plt.title('Песни по жанрам на английском языке')\n",
    "plt.ylabel('Количество песен', fontsize=12)\n",
    "plt.xlabel('Жанр', fontsize=12)\n",
    "plt.show()"
   ]
  },
  {
   "cell_type": "markdown",
   "id": "7a719493",
   "metadata": {},
   "source": [
    "# предобработка"
   ]
  },
  {
   "cell_type": "code",
   "execution_count": 12,
   "id": "f99e672d",
   "metadata": {},
   "outputs": [],
   "source": [
    "import re"
   ]
  },
  {
   "cell_type": "code",
   "execution_count": 13,
   "id": "f487c49a",
   "metadata": {},
   "outputs": [],
   "source": [
    "dt1 = dt['Lyric'].values.tolist()"
   ]
  },
  {
   "cell_type": "code",
   "execution_count": 14,
   "id": "b7c5eb49",
   "metadata": {},
   "outputs": [],
   "source": [
    "def prep():\n",
    "    body_parsed = []\n",
    "    for text in dt1:\n",
    "        text = str(text)\n",
    "        text = text.lower()\n",
    "        text = re.sub(r\"what's\", \"what is \", text)\n",
    "        text = re.sub(r\"’\", \"'\", text)\n",
    "        text = re.sub(r\"\\'s\", \" \", text)\n",
    "        text = re.sub(r\"\\'ve\", \" have \", text)\n",
    "        text = re.sub(r\"can't\", \"can not \", text)\n",
    "        text = re.sub(r\"haven't\", \"have not \", text)\n",
    "        text = re.sub(r\"don't\", \"do not \", text)\n",
    "        text = re.sub(r\"wouldn't\", \"would not \", text)\n",
    "        text = re.sub(r\"i'm\", \"i am \", text)\n",
    "        text = re.sub(r\"\\'re\", \" are \", text)\n",
    "        text = re.sub(r\"\\'d\", \" would \", text)\n",
    "        text = re.sub('2', 'two', text)\n",
    "        text = re.sub(r\"\\'ll\", \" will \", text)\n",
    "        text = re.sub(r\"\\'scuse\", \" excuse \", text)\n",
    "        text = re.sub(r'says, \"', 'says: \"', text)\n",
    "        text = re.sub(\"in'\", 'ing', text)\n",
    "        text = text.replace(\"\\n\", \" \")\n",
    "        text = text.replace(\"\\t\", \" \")\n",
    "        text = text.strip(' ')\n",
    "        text = re.sub(\"[^a-zA-Z]\",\" \", text)\n",
    "        body_parsed.append(text)\n",
    "    return body_parsed\n",
    "\n",
    "    "
   ]
  },
  {
   "cell_type": "code",
   "execution_count": 18,
   "id": "e6b2c4b4",
   "metadata": {},
   "outputs": [
    {
     "data": {
      "text/plain": [
       "['two young people without a thing say some vows and spread their wings settle down with just what they need living on love  she do not  care  bout what is  in style she just likes the way he smiles it takes more than marble and tile living on love  livin on love  buyin on time without somebody nothing aingt worth a dime just like an old fashion story book rhyme livin on love it sounds simple  that  what you are  thinkin but love can walk through fire without blinkin it doens t take much when you get enough livin on love  two old people without a thing children gone but still they sing side by side in that front porch swing livin on love  he can not  see anymore she can barely sweep the floor hand in hand they will  walk through that door just livin on love  livin on love  buyin on time without somebody nothing aingt worth a dime just like an old fashion story book rhyme livin on love it sounds simple that  what you are  thinkin but love can walk through fire without blinkin it doens t take much when you get enough livin on love  no it doesn t take much when you get enough livin on love',\n",
       " 'here we are  talking  bout forever both know damn well  it  not easy together we have  both felt love  we have  both felt pain i will  take the sunshine over the rain  and i will  try to love only you and i will  try my best to be true oh darling  i will  try  so i am  not scared  it  worth a chance to me take my hand  let  face eternity well  i can not  tell you that i will  never change but i can swear that in every way  and i ll try to love only you and i ll try my best to be true oh darling i ll try  i am  not perfect  just another man but i will give you all that i am',\n",
       " 'when i look into your soft green eyes and when i see your delicate body revealed to me as you slip off your dress i am  reminded that what i feel for you will remain strong and true long after the pleasures of the flesh and   chorus   i will  go on loving you i will  go on loving you i will  go on loving you  and be it the wind or the rain or the moon up in the sky the spin of the earth or the changes in the tide i do not  know what brought us together what strange forces of nature conspired to construct the present from the past but   chorus   when i look into your soft green eyes and when i see your delicate body revealed to me as you slip off your dress i am  reminded that what i feel for you will remain strong and true long after the pleasures of the flesh and   chorus ',\n",
       " 'way down yonder on the chattahoochee it gets hotter than a hoochie coochie we laid rubber on the georgia asphalt we got a little crazy but we never got caught  down by the river on a friday night pyramid of cans in the pale moonlight talking  bout cars and dreaming  bout women never had a plan  just a living for the minute  yeah way down yonder on the chattahoochee never knew how much that muddy water meant to me but i learned how to swim and i learned who i was a lot about living and a little  bout love  well we fogged up the windows in my old chevy i was willing but she wasn t ready so i settled for a burger and a grape sno cone i dropped her off early but i didn t go home  down by the river on a friday night pyramid of cans in the pale moonlight talking  bout cars and dreaming  bout women never had a plan  just a living for the minute  yeah way down yonder on the chattahochee never knew how much that muddy water meant to me but i learned how to swim and i learned who i was a lot about living and a little  bout love  yeah way down yonder on the chattahochee never knew how much that muddy water meant to me but i learned how to swim and i learned who i was a lot about living and a little  bout love a lot about living and a little  bout love',\n",
       " 'have a little love on a little honeymoon you got a little dish and you got a little spoon a little bitty house and a little bitty yard a little bitty dog and a little bitty car  well  it  alright to be little bitty a little hometown or a big old city might as well share  might as well smile life goes on for a little bitty while  a little bitty baby in a little bitty gown it will  grow up in a little bitty town a big yellow bus and little bitty books it all started with a little bitty look  well  it  alright to be little bitty a little hometown or a big old city might as well share  might as well smile life goes on for a little bitty while  you know you got a job and a little bitty check a six pack of beer and television set little bitty world goes around and around little bit of silence and a little bit of sound  a good old boy and a pretty little girl start all over in a little bitty world little bitty plan and a little bitty dream it  all part of a little bitty scheme  it  alright to be little bitty a little hometown or a big old city might as well share  might as well smile life goes on for a little bitty while  it  alright to be little bitty a little hometown or a big old city might as well share  might as well smile life goes on for a little bitty while']"
      ]
     },
     "execution_count": 18,
     "metadata": {},
     "output_type": "execute_result"
    }
   ],
   "source": [
    "body = prep()\n",
    "body[0:5]"
   ]
  },
  {
   "cell_type": "code",
   "execution_count": 19,
   "id": "99b4d171",
   "metadata": {},
   "outputs": [
    {
     "data": {
      "text/plain": [
       "Country         4774\n",
       "Rock            4671\n",
       "Heavy Metal     4394\n",
       "Indie           4289\n",
       "Rap; Hip Hop    3425\n",
       "Name: Genres, dtype: int64"
      ]
     },
     "execution_count": 19,
     "metadata": {},
     "output_type": "execute_result"
    }
   ],
   "source": [
    "y_labels = dt.Genres\n",
    "y_labels.value_counts()"
   ]
  },
  {
   "cell_type": "code",
   "execution_count": 20,
   "id": "ddb47162",
   "metadata": {},
   "outputs": [],
   "source": [
    "genres = y_labels.unique()\n",
    "genre_map = dict(enumerate(genres))"
   ]
  },
  {
   "cell_type": "code",
   "execution_count": 21,
   "id": "99715fb0",
   "metadata": {},
   "outputs": [],
   "source": [
    "genre_map = {value:key for key, value in genre_map.items()}"
   ]
  },
  {
   "cell_type": "code",
   "execution_count": 22,
   "id": "bfea7520",
   "metadata": {},
   "outputs": [],
   "source": [
    "y_labels = y_labels.map(genre_map)"
   ]
  },
  {
   "cell_type": "code",
   "execution_count": 23,
   "id": "ba29f3ba",
   "metadata": {},
   "outputs": [
    {
     "data": {
      "text/plain": [
       "0    4774\n",
       "4    4671\n",
       "1    4394\n",
       "3    4289\n",
       "2    3425\n",
       "Name: Genres, dtype: int64"
      ]
     },
     "execution_count": 23,
     "metadata": {},
     "output_type": "execute_result"
    }
   ],
   "source": [
    "y_labels.value_counts()"
   ]
  },
  {
   "cell_type": "markdown",
   "id": "f45066d2",
   "metadata": {},
   "source": [
    "# naive Baies"
   ]
  },
  {
   "cell_type": "code",
   "execution_count": 24,
   "id": "8578fad0",
   "metadata": {},
   "outputs": [],
   "source": [
    "from sklearn.model_selection import train_test_split\n",
    "X_train, X_test, y_train, y_test = train_test_split(body, y_labels, test_size=0.5, random_state=42)  "
   ]
  },
  {
   "cell_type": "code",
   "execution_count": 25,
   "id": "0f5f84b1",
   "metadata": {},
   "outputs": [
    {
     "data": {
      "text/plain": [
       "dtype('int64')"
      ]
     },
     "execution_count": 25,
     "metadata": {},
     "output_type": "execute_result"
    }
   ],
   "source": [
    "y_train.dtypes"
   ]
  },
  {
   "cell_type": "code",
   "execution_count": 26,
   "id": "2d0c5f23",
   "metadata": {},
   "outputs": [
    {
     "data": {
      "text/plain": [
       "Pipeline(steps=[('tfidf', TfidfVectorizer()), ('clf', MultinomialNB())])"
      ]
     },
     "execution_count": 26,
     "metadata": {},
     "output_type": "execute_result"
    }
   ],
   "source": [
    "from sklearn.feature_extraction.text import TfidfVectorizer\n",
    "from sklearn.naive_bayes import MultinomialNB\n",
    "from sklearn.pipeline import Pipeline\n",
    "\n",
    "# create a pipeline\n",
    "model_0 = Pipeline([\n",
    "    ('tfidf', TfidfVectorizer()),\n",
    "    ('clf', MultinomialNB()),\n",
    "])\n",
    "\n",
    "# fit pipeline to train data\n",
    "model_0.fit(\n",
    "    X=X_train,\n",
    "    y=y_train\n",
    ")"
   ]
  },
  {
   "cell_type": "code",
   "execution_count": 27,
   "id": "99559770",
   "metadata": {},
   "outputs": [
    {
     "data": {
      "text/plain": [
       "0.5743713463858217"
      ]
     },
     "execution_count": 27,
     "metadata": {},
     "output_type": "execute_result"
    }
   ],
   "source": [
    "model_0.score(\n",
    "    X=X_test,\n",
    "    y=y_test\n",
    ")"
   ]
  },
  {
   "cell_type": "code",
   "execution_count": 28,
   "id": "0cfd77b1",
   "metadata": {},
   "outputs": [
    {
     "data": {
      "text/plain": [
       "array([1, 0, 0, ..., 0, 4, 1])"
      ]
     },
     "execution_count": 28,
     "metadata": {},
     "output_type": "execute_result"
    }
   ],
   "source": [
    "baseline_preds = model_0.predict(X_test)\n",
    "baseline_preds"
   ]
  },
  {
   "cell_type": "code",
   "execution_count": 30,
   "id": "4ec931e0",
   "metadata": {},
   "outputs": [],
   "source": [
    "from sklearn.metrics import accuracy_score, precision_recall_fscore_support\n",
    "\n",
    "def calculate_results(y_true, y_pred):\n",
    "    model_accuracy = accuracy_score(y_true, y_pred)\n",
    "    model_precision, model_recall, model_f1, _ = precision_recall_fscore_support(y_true, y_pred, average=\"weighted\")\n",
    "    model_results = {\"accuracy\": model_accuracy,\n",
    "                     \"precision\": model_precision,\n",
    "                     \"recall\": model_recall,\n",
    "                     \"f1\": model_f1}\n",
    "    return model_results\n",
    "     \n"
   ]
  },
  {
   "cell_type": "code",
   "execution_count": 31,
   "id": "5d0c129a",
   "metadata": {},
   "outputs": [
    {
     "data": {
      "text/plain": [
       "{'accuracy': 0.5743713463858217,\n",
       " 'precision': 0.6698993667584683,\n",
       " 'recall': 0.5743713463858217,\n",
       " 'f1': 0.5379553014133476}"
      ]
     },
     "execution_count": 31,
     "metadata": {},
     "output_type": "execute_result"
    }
   ],
   "source": [
    "baseline_results = calculate_results(\n",
    "    y_true=y_test,\n",
    "    y_pred=baseline_preds\n",
    ")\n",
    "baseline_results"
   ]
  },
  {
   "cell_type": "markdown",
   "id": "9b477f2b",
   "metadata": {},
   "source": [
    "# random forest"
   ]
  },
  {
   "cell_type": "code",
   "execution_count": 42,
   "id": "f38751db",
   "metadata": {},
   "outputs": [],
   "source": [
    "from sklearn.ensemble import RandomForestClassifier"
   ]
  },
  {
   "cell_type": "code",
   "execution_count": 43,
   "id": "c70bc734",
   "metadata": {},
   "outputs": [
    {
     "data": {
      "text/plain": [
       "Pipeline(steps=[('tfidf', TfidfVectorizer()),\n",
       "                ('clf', RandomForestClassifier())])"
      ]
     },
     "execution_count": 43,
     "metadata": {},
     "output_type": "execute_result"
    }
   ],
   "source": [
    "model_1 = Pipeline([\n",
    "    ('tfidf', TfidfVectorizer()),\n",
    "    ('clf', RandomForestClassifier()),\n",
    "])\n",
    "\n",
    "# fit pipeline to train data\n",
    "model_1.fit(\n",
    "    X=X_train,\n",
    "    y=y_train\n",
    ")"
   ]
  },
  {
   "cell_type": "code",
   "execution_count": 44,
   "id": "5aed3a1a",
   "metadata": {},
   "outputs": [
    {
     "data": {
      "text/plain": [
       "0.6431288855896817"
      ]
     },
     "execution_count": 44,
     "metadata": {},
     "output_type": "execute_result"
    }
   ],
   "source": [
    "model_1.score(\n",
    "    X=X_test,\n",
    "    y=y_test\n",
    ")"
   ]
  },
  {
   "cell_type": "code",
   "execution_count": 45,
   "id": "234f5d3d",
   "metadata": {},
   "outputs": [
    {
     "data": {
      "text/plain": [
       "array([1, 3, 0, ..., 4, 3, 1])"
      ]
     },
     "execution_count": 45,
     "metadata": {},
     "output_type": "execute_result"
    }
   ],
   "source": [
    "baseline_preds = model_1.predict(X_test)\n",
    "baseline_preds"
   ]
  },
  {
   "cell_type": "code",
   "execution_count": 46,
   "id": "0688d498",
   "metadata": {},
   "outputs": [],
   "source": [
    "from sklearn.metrics import accuracy_score, precision_recall_fscore_support\n",
    "\n",
    "def calculate_results(y_true, y_pred):\n",
    "    model_accuracy = accuracy_score(y_true, y_pred)\n",
    "    model_precision, model_recall, model_f1, _ = precision_recall_fscore_support(y_true, y_pred, average=\"weighted\")\n",
    "    model_results = {\"accuracy\": model_accuracy,\n",
    "                     \"precision\": model_precision,\n",
    "                     \"recall\": model_recall,\n",
    "                     \"f1\": model_f1}\n",
    "    return model_results\n",
    "     \n"
   ]
  },
  {
   "cell_type": "code",
   "execution_count": 47,
   "id": "a392ef98",
   "metadata": {},
   "outputs": [
    {
     "data": {
      "text/plain": [
       "{'accuracy': 0.6431288855896817,\n",
       " 'precision': 0.643282098765065,\n",
       " 'recall': 0.6431288855896817,\n",
       " 'f1': 0.6405743022006938}"
      ]
     },
     "execution_count": 47,
     "metadata": {},
     "output_type": "execute_result"
    }
   ],
   "source": [
    "baseline_results = calculate_results(\n",
    "    y_true=y_test,\n",
    "    y_pred=baseline_preds\n",
    ")\n",
    "baseline_results"
   ]
  },
  {
   "cell_type": "markdown",
   "id": "16f01c44",
   "metadata": {},
   "source": [
    "# Logistic Regression"
   ]
  },
  {
   "cell_type": "code",
   "execution_count": 34,
   "id": "66e9ae30",
   "metadata": {},
   "outputs": [],
   "source": [
    "from sklearn.linear_model import LogisticRegression"
   ]
  },
  {
   "cell_type": "code",
   "execution_count": 35,
   "id": "327a7611",
   "metadata": {},
   "outputs": [
    {
     "name": "stderr",
     "output_type": "stream",
     "text": [
      "/Users/tasia/opt/anaconda3/lib/python3.9/site-packages/sklearn/linear_model/_logistic.py:814: ConvergenceWarning: lbfgs failed to converge (status=1):\n",
      "STOP: TOTAL NO. of ITERATIONS REACHED LIMIT.\n",
      "\n",
      "Increase the number of iterations (max_iter) or scale the data as shown in:\n",
      "    https://scikit-learn.org/stable/modules/preprocessing.html\n",
      "Please also refer to the documentation for alternative solver options:\n",
      "    https://scikit-learn.org/stable/modules/linear_model.html#logistic-regression\n",
      "  n_iter_i = _check_optimize_result(\n"
     ]
    },
    {
     "data": {
      "text/plain": [
       "Pipeline(steps=[('tfidf', TfidfVectorizer()), ('clf', LogisticRegression())])"
      ]
     },
     "execution_count": 35,
     "metadata": {},
     "output_type": "execute_result"
    }
   ],
   "source": [
    "model_2 = Pipeline([\n",
    "    ('tfidf', TfidfVectorizer()),\n",
    "    ('clf', LogisticRegression()),\n",
    "])\n",
    "\n",
    "# fit pipeline to train data\n",
    "model_2.fit(\n",
    "    X=X_train,\n",
    "    y=y_train\n",
    ")"
   ]
  },
  {
   "cell_type": "code",
   "execution_count": 36,
   "id": "a3f00ec3",
   "metadata": {},
   "outputs": [
    {
     "data": {
      "text/plain": [
       "0.6909158392873712"
      ]
     },
     "execution_count": 36,
     "metadata": {},
     "output_type": "execute_result"
    }
   ],
   "source": [
    "model_2.score(\n",
    "    X=X_test,\n",
    "    y=y_test\n",
    ")"
   ]
  },
  {
   "cell_type": "code",
   "execution_count": 37,
   "id": "01672159",
   "metadata": {},
   "outputs": [
    {
     "data": {
      "text/plain": [
       "array([1, 3, 0, ..., 0, 4, 1])"
      ]
     },
     "execution_count": 37,
     "metadata": {},
     "output_type": "execute_result"
    }
   ],
   "source": [
    "baseline_preds = model_2.predict(X_test)\n",
    "baseline_preds"
   ]
  },
  {
   "cell_type": "code",
   "execution_count": 38,
   "id": "8aa6b7fb",
   "metadata": {},
   "outputs": [],
   "source": [
    "from sklearn.metrics import accuracy_score, precision_recall_fscore_support\n",
    "\n",
    "def calculate_results(y_true, y_pred):\n",
    "    model_accuracy = accuracy_score(y_true, y_pred)\n",
    "    model_precision, model_recall, model_f1, _ = precision_recall_fscore_support(y_true, y_pred, average=\"weighted\")\n",
    "    model_results = {\"accuracy\": model_accuracy,\n",
    "                     \"precision\": model_precision,\n",
    "                     \"recall\": model_recall,\n",
    "                     \"f1\": model_f1}\n",
    "    return model_results"
   ]
  },
  {
   "cell_type": "code",
   "execution_count": 39,
   "id": "5d4fda3b",
   "metadata": {},
   "outputs": [
    {
     "data": {
      "text/plain": [
       "{'accuracy': 0.6909158392873712,\n",
       " 'precision': 0.6939174320240229,\n",
       " 'recall': 0.6909158392873712,\n",
       " 'f1': 0.6919055511855386}"
      ]
     },
     "execution_count": 39,
     "metadata": {},
     "output_type": "execute_result"
    }
   ],
   "source": [
    "baseline_results = calculate_results(\n",
    "    y_true=y_test,\n",
    "    y_pred=baseline_preds\n",
    ")\n",
    "baseline_results"
   ]
  },
  {
   "cell_type": "markdown",
   "id": "42f08c36",
   "metadata": {},
   "source": [
    "# MLP"
   ]
  },
  {
   "cell_type": "code",
   "execution_count": 67,
   "id": "a40da594",
   "metadata": {},
   "outputs": [],
   "source": [
    "from sklearn.neural_network import MLPClassifier"
   ]
  },
  {
   "cell_type": "code",
   "execution_count": 68,
   "id": "fb3f694d",
   "metadata": {},
   "outputs": [
    {
     "data": {
      "text/plain": [
       "Pipeline(steps=[('tfidf', TfidfVectorizer()), ('clf', MLPClassifier())])"
      ]
     },
     "execution_count": 68,
     "metadata": {},
     "output_type": "execute_result"
    }
   ],
   "source": [
    "model_3 = Pipeline([\n",
    "    ('tfidf', TfidfVectorizer()),\n",
    "    ('clf', MLPClassifier()),\n",
    "])\n",
    "\n",
    "# fit pipeline to train data\n",
    "model_3.fit(\n",
    "    X=X_train,\n",
    "    y=y_train\n",
    ")"
   ]
  },
  {
   "cell_type": "code",
   "execution_count": 69,
   "id": "de4cb5ad",
   "metadata": {},
   "outputs": [
    {
     "data": {
      "text/plain": [
       "0.6586248492159228"
      ]
     },
     "execution_count": 69,
     "metadata": {},
     "output_type": "execute_result"
    }
   ],
   "source": [
    "model_3.score(\n",
    "    X=X_test,\n",
    "    y=y_test\n",
    ")"
   ]
  },
  {
   "cell_type": "code",
   "execution_count": 70,
   "id": "731c4782",
   "metadata": {},
   "outputs": [
    {
     "data": {
      "text/plain": [
       "array([1, 3, 0, ..., 0, 4, 1])"
      ]
     },
     "execution_count": 70,
     "metadata": {},
     "output_type": "execute_result"
    }
   ],
   "source": [
    "baseline_preds = model_3.predict(X_test)\n",
    "baseline_preds"
   ]
  },
  {
   "cell_type": "code",
   "execution_count": 71,
   "id": "416c35f6",
   "metadata": {},
   "outputs": [],
   "source": [
    "from sklearn.metrics import accuracy_score, precision_recall_fscore_support\n",
    "\n",
    "def calculate_results(y_true, y_pred):\n",
    "    model_accuracy = accuracy_score(y_true, y_pred)\n",
    "    model_precision, model_recall, model_f1, _ = precision_recall_fscore_support(y_true, y_pred, average=\"weighted\")\n",
    "    model_results = {\"accuracy\": model_accuracy,\n",
    "                     \"precision\": model_precision,\n",
    "                     \"recall\": model_recall,\n",
    "                     \"f1\": model_f1}\n",
    "    return model_results"
   ]
  },
  {
   "cell_type": "code",
   "execution_count": 72,
   "id": "c7a7a6d5",
   "metadata": {},
   "outputs": [
    {
     "data": {
      "text/plain": [
       "{'accuracy': 0.6586248492159228,\n",
       " 'precision': 0.6721677177632811,\n",
       " 'recall': 0.6586248492159228,\n",
       " 'f1': 0.6641933069731084}"
      ]
     },
     "execution_count": 72,
     "metadata": {},
     "output_type": "execute_result"
    }
   ],
   "source": [
    "baseline_results = calculate_results(\n",
    "    y_true=y_test,\n",
    "    y_pred=baseline_preds\n",
    ")\n",
    "baseline_results"
   ]
  },
  {
   "cell_type": "markdown",
   "id": "4259be70",
   "metadata": {},
   "source": [
    "# SVC"
   ]
  },
  {
   "cell_type": "code",
   "execution_count": 50,
   "id": "e21ae081",
   "metadata": {},
   "outputs": [],
   "source": [
    "from sklearn.svm import SVC"
   ]
  },
  {
   "cell_type": "code",
   "execution_count": 51,
   "id": "4bf672d9",
   "metadata": {},
   "outputs": [
    {
     "data": {
      "text/plain": [
       "Pipeline(steps=[('tfidf', TfidfVectorizer()), ('clf', SVC())])"
      ]
     },
     "execution_count": 51,
     "metadata": {},
     "output_type": "execute_result"
    }
   ],
   "source": [
    "model_4 = Pipeline([\n",
    "    ('tfidf', TfidfVectorizer()),\n",
    "    ('clf', SVC()),\n",
    "])\n",
    "\n",
    "# fit pipeline to train data\n",
    "model_4.fit(\n",
    "    X=X_train,\n",
    "    y=y_train\n",
    ")"
   ]
  },
  {
   "cell_type": "code",
   "execution_count": 52,
   "id": "e20c8562",
   "metadata": {},
   "outputs": [
    {
     "data": {
      "text/plain": [
       "0.6877609724413102"
      ]
     },
     "execution_count": 52,
     "metadata": {},
     "output_type": "execute_result"
    }
   ],
   "source": [
    "model_4.score(\n",
    "    X=X_test,\n",
    "    y=y_test\n",
    ")"
   ]
  },
  {
   "cell_type": "code",
   "execution_count": 53,
   "id": "38e887ce",
   "metadata": {},
   "outputs": [
    {
     "data": {
      "text/plain": [
       "array([1, 3, 0, ..., 4, 4, 1])"
      ]
     },
     "execution_count": 53,
     "metadata": {},
     "output_type": "execute_result"
    }
   ],
   "source": [
    "baseline_preds = model_4.predict(X_test)\n",
    "baseline_preds"
   ]
  },
  {
   "cell_type": "code",
   "execution_count": 54,
   "id": "de68de2e",
   "metadata": {},
   "outputs": [],
   "source": [
    "from sklearn.metrics import accuracy_score, precision_recall_fscore_support\n",
    "\n",
    "def calculate_results(y_true, y_pred):\n",
    "    model_accuracy = accuracy_score(y_true, y_pred)\n",
    "    model_precision, model_recall, model_f1, _ = precision_recall_fscore_support(y_true, y_pred, average=\"weighted\")\n",
    "    model_results = {\"accuracy\": model_accuracy,\n",
    "                     \"precision\": model_precision,\n",
    "                     \"recall\": model_recall,\n",
    "                     \"f1\": model_f1}\n",
    "    return model_results"
   ]
  },
  {
   "cell_type": "code",
   "execution_count": 55,
   "id": "b6288456",
   "metadata": {},
   "outputs": [
    {
     "data": {
      "text/plain": [
       "{'accuracy': 0.6877609724413102,\n",
       " 'precision': 0.6973055675009815,\n",
       " 'recall': 0.6877609724413102,\n",
       " 'f1': 0.691368294904278}"
      ]
     },
     "execution_count": 55,
     "metadata": {},
     "output_type": "execute_result"
    }
   ],
   "source": [
    "baseline_results = calculate_results(\n",
    "    y_true=y_test,\n",
    "    y_pred=baseline_preds\n",
    ")\n",
    "baseline_results"
   ]
  },
  {
   "cell_type": "markdown",
   "id": "a0d861d4",
   "metadata": {},
   "source": [
    "# decision tree classifier"
   ]
  },
  {
   "cell_type": "code",
   "execution_count": 58,
   "id": "7993ddec",
   "metadata": {},
   "outputs": [],
   "source": [
    "from sklearn.tree import DecisionTreeClassifier"
   ]
  },
  {
   "cell_type": "code",
   "execution_count": 59,
   "id": "bfcb74f4",
   "metadata": {},
   "outputs": [
    {
     "data": {
      "text/plain": [
       "Pipeline(steps=[('tfidf', TfidfVectorizer()),\n",
       "                ('clf', DecisionTreeClassifier())])"
      ]
     },
     "execution_count": 59,
     "metadata": {},
     "output_type": "execute_result"
    }
   ],
   "source": [
    "model_5 = Pipeline([\n",
    "    ('tfidf', TfidfVectorizer()),\n",
    "    ('clf', DecisionTreeClassifier()),\n",
    "])\n",
    "\n",
    "# fit pipeline to train data\n",
    "model_5.fit(\n",
    "    X=X_train,\n",
    "    y=y_train\n",
    ")"
   ]
  },
  {
   "cell_type": "code",
   "execution_count": 60,
   "id": "c1235a1d",
   "metadata": {},
   "outputs": [
    {
     "data": {
      "text/plain": [
       "0.48696297670965943"
      ]
     },
     "execution_count": 60,
     "metadata": {},
     "output_type": "execute_result"
    }
   ],
   "source": [
    "model_5.score(\n",
    "    X=X_test,\n",
    "    y=y_test\n",
    ")"
   ]
  },
  {
   "cell_type": "code",
   "execution_count": 61,
   "id": "8395cb57",
   "metadata": {},
   "outputs": [
    {
     "data": {
      "text/plain": [
       "array([0, 3, 3, ..., 3, 1, 1])"
      ]
     },
     "execution_count": 61,
     "metadata": {},
     "output_type": "execute_result"
    }
   ],
   "source": [
    "baseline_preds = model_5.predict(X_test)\n",
    "baseline_preds"
   ]
  },
  {
   "cell_type": "code",
   "execution_count": 62,
   "id": "cc27a880",
   "metadata": {},
   "outputs": [],
   "source": [
    "from sklearn.metrics import accuracy_score, precision_recall_fscore_support\n",
    "\n",
    "def calculate_results(y_true, y_pred):\n",
    "    model_accuracy = accuracy_score(y_true, y_pred)\n",
    "    model_precision, model_recall, model_f1, _ = precision_recall_fscore_support(y_true, y_pred, average=\"weighted\")\n",
    "    model_results = {\"accuracy\": model_accuracy,\n",
    "                     \"precision\": model_precision,\n",
    "                     \"recall\": model_recall,\n",
    "                     \"f1\": model_f1}\n",
    "    return model_results"
   ]
  },
  {
   "cell_type": "code",
   "execution_count": 63,
   "id": "b94759d1",
   "metadata": {},
   "outputs": [
    {
     "data": {
      "text/plain": [
       "{'accuracy': 0.48696297670965943,\n",
       " 'precision': 0.49303516807057324,\n",
       " 'recall': 0.48696297670965943,\n",
       " 'f1': 0.4897874900791356}"
      ]
     },
     "execution_count": 63,
     "metadata": {},
     "output_type": "execute_result"
    }
   ],
   "source": [
    "baseline_results = calculate_results(\n",
    "    y_true=y_test,\n",
    "    y_pred=baseline_preds\n",
    ")\n",
    "baseline_results"
   ]
  }
 ],
 "metadata": {
  "kernelspec": {
   "display_name": "Python 3 (ipykernel)",
   "language": "python",
   "name": "python3"
  },
  "language_info": {
   "codemirror_mode": {
    "name": "ipython",
    "version": 3
   },
   "file_extension": ".py",
   "mimetype": "text/x-python",
   "name": "python",
   "nbconvert_exporter": "python",
   "pygments_lexer": "ipython3",
   "version": "3.9.12"
  }
 },
 "nbformat": 4,
 "nbformat_minor": 5
}
