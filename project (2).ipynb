{
 "cells": [
  {
   "cell_type": "markdown",
   "id": "780d24eb",
   "metadata": {},
   "source": [
    "# обработка датасета"
   ]
  },
  {
   "cell_type": "code",
   "execution_count": 2,
   "id": "a8ab5363",
   "metadata": {},
   "outputs": [
    {
     "name": "stdout",
     "output_type": "stream",
     "text": [
      "Requirement already satisfied: pandas in ./opt/anaconda3/lib/python3.9/site-packages (1.4.2)\n",
      "Requirement already satisfied: python-dateutil>=2.8.1 in ./opt/anaconda3/lib/python3.9/site-packages (from pandas) (2.8.2)\n",
      "Requirement already satisfied: pytz>=2020.1 in ./opt/anaconda3/lib/python3.9/site-packages (from pandas) (2021.3)\n",
      "Requirement already satisfied: numpy>=1.18.5 in ./opt/anaconda3/lib/python3.9/site-packages (from pandas) (1.21.5)\n",
      "Requirement already satisfied: six>=1.5 in ./opt/anaconda3/lib/python3.9/site-packages (from python-dateutil>=2.8.1->pandas) (1.16.0)\n"
     ]
    }
   ],
   "source": [
    "!pip install pandas"
   ]
  },
  {
   "cell_type": "code",
   "execution_count": 3,
   "id": "fd0aa367",
   "metadata": {},
   "outputs": [],
   "source": [
    "import pandas as pd\n",
    "import numpy as np\n",
    "import matplotlib.pyplot as plt\n",
    "import seaborn as sns"
   ]
  },
  {
   "cell_type": "code",
   "execution_count": 4,
   "id": "89142162",
   "metadata": {},
   "outputs": [
    {
     "data": {
      "text/plain": [
       "Gospel/Religioso                             244\n",
       "Sertanejo                                     97\n",
       "Funk Carioca                                  61\n",
       "Indie                                         53\n",
       "Pop                                           49\n",
       "                                            ... \n",
       "Gospel/Religioso; Jovem Guarda                 1\n",
       "Gospel/Religioso; Instrumental; Pop            1\n",
       "Gospel/Religioso; Soul Music; Black Music      1\n",
       "Heavy Metal; Hardcore; Gospel/Religioso        1\n",
       "World Music; Black Music; Blues                1\n",
       "Name: Genres, Length: 1750, dtype: int64"
      ]
     },
     "execution_count": 4,
     "metadata": {},
     "output_type": "execute_result"
    }
   ],
   "source": [
    "artist = pd.read_csv('/Users/tasia/Desktop/artists-data.csv')\n",
    "link_genre = artist[['Link', 'Genres']]\n",
    "link_genre.duplicated(subset = 'Link', keep = 'first').value_counts()\n",
    "link_genre.Genres.value_counts()"
   ]
  },
  {
   "cell_type": "code",
   "execution_count": 5,
   "id": "05fbe04d",
   "metadata": {},
   "outputs": [
    {
     "data": {
      "text/html": [
       "<div>\n",
       "<style scoped>\n",
       "    .dataframe tbody tr th:only-of-type {\n",
       "        vertical-align: middle;\n",
       "    }\n",
       "\n",
       "    .dataframe tbody tr th {\n",
       "        vertical-align: top;\n",
       "    }\n",
       "\n",
       "    .dataframe thead th {\n",
       "        text-align: right;\n",
       "    }\n",
       "</style>\n",
       "<table border=\"1\" class=\"dataframe\">\n",
       "  <thead>\n",
       "    <tr style=\"text-align: right;\">\n",
       "      <th></th>\n",
       "      <th>ALink</th>\n",
       "      <th>Lyric</th>\n",
       "    </tr>\n",
       "  </thead>\n",
       "  <tbody>\n",
       "    <tr>\n",
       "      <th>69</th>\n",
       "      <td>/ivete-sangalo/</td>\n",
       "      <td>I feel so unsure\\nAs I take your hand and lead...</td>\n",
       "    </tr>\n",
       "    <tr>\n",
       "      <th>86</th>\n",
       "      <td>/ivete-sangalo/</td>\n",
       "      <td>Don't let them fool, ya\\nOr even try to school...</td>\n",
       "    </tr>\n",
       "    <tr>\n",
       "      <th>88</th>\n",
       "      <td>/ivete-sangalo/</td>\n",
       "      <td>Baby, let's cruise, away from here\\nDon't be c...</td>\n",
       "    </tr>\n",
       "    <tr>\n",
       "      <th>111</th>\n",
       "      <td>/ivete-sangalo/</td>\n",
       "      <td>Know it sounds funny\\nBut, I just can't stand ...</td>\n",
       "    </tr>\n",
       "    <tr>\n",
       "      <th>140</th>\n",
       "      <td>/ivete-sangalo/</td>\n",
       "      <td>You've got that look again\\nThe one I hoped I ...</td>\n",
       "    </tr>\n",
       "  </tbody>\n",
       "</table>\n",
       "</div>"
      ],
      "text/plain": [
       "               ALink                                              Lyric\n",
       "69   /ivete-sangalo/  I feel so unsure\\nAs I take your hand and lead...\n",
       "86   /ivete-sangalo/  Don't let them fool, ya\\nOr even try to school...\n",
       "88   /ivete-sangalo/  Baby, let's cruise, away from here\\nDon't be c...\n",
       "111  /ivete-sangalo/  Know it sounds funny\\nBut, I just can't stand ...\n",
       "140  /ivete-sangalo/  You've got that look again\\nThe one I hoped I ..."
      ]
     },
     "execution_count": 5,
     "metadata": {},
     "output_type": "execute_result"
    }
   ],
   "source": [
    "lyric = pd.read_csv('/Users/tasia/Desktop/lyrics-data.csv')\n",
    "eng_lyrics = lyric.drop(lyric[lyric['language'] !='en'].index)\n",
    "eng_lyrics.duplicated(subset = 'SLink', keep = 'first').value_counts()\n",
    "eng_lyrics.drop_duplicates(subset='SLink', keep='first', inplace=True, ignore_index=False)\n",
    "eng_lyrics.drop_duplicates(inplace=True)\n",
    "lyrics = eng_lyrics[['ALink', 'Lyric']]\n",
    "lyrics.head()"
   ]
  },
  {
   "cell_type": "code",
   "execution_count": 6,
   "id": "9128014b",
   "metadata": {},
   "outputs": [
    {
     "data": {
      "text/plain": [
       "Country                                  4774\n",
       "Rock                                     4671\n",
       "Heavy Metal                              4394\n",
       "Indie                                    4289\n",
       "Rap; Hip Hop                             3425\n",
       "                                         ... \n",
       "J-Pop/J-Rock; Rock; Trilha Sonora           1\n",
       "Surf Music; Reggae; Romântico               1\n",
       "Pop/Rock; Dance; Romântico                  1\n",
       "J-Pop/J-Rock; Trilha Sonora; Pop/Rock       1\n",
       "Reggaeton; Reggae; Axé                      1\n",
       "Name: Genres, Length: 1190, dtype: int64"
      ]
     },
     "execution_count": 6,
     "metadata": {},
     "output_type": "execute_result"
    }
   ],
   "source": [
    "data = pd.merge(lyrics, link_genre, how='inner', left_on='ALink', right_on='Link')\n",
    "data = data.drop(['ALink','Link'], axis=1)\n",
    "data.Genres.value_counts()"
   ]
  },
  {
   "cell_type": "code",
   "execution_count": 7,
   "id": "61ed8ed1",
   "metadata": {},
   "outputs": [],
   "source": [
    "filter_df = data.groupby(\"Genres\").filter(lambda x: len(x) > 3000)"
   ]
  },
  {
   "cell_type": "code",
   "execution_count": 8,
   "id": "20bcbc3c",
   "metadata": {},
   "outputs": [
    {
     "data": {
      "text/plain": [
       "Country         4774\n",
       "Rock            4671\n",
       "Heavy Metal     4394\n",
       "Indie           4289\n",
       "Rap; Hip Hop    3425\n",
       "Name: Genres, dtype: int64"
      ]
     },
     "execution_count": 8,
     "metadata": {},
     "output_type": "execute_result"
    }
   ],
   "source": [
    "filter_df.Genres.value_counts()"
   ]
  },
  {
   "cell_type": "code",
   "execution_count": 9,
   "id": "885a6014",
   "metadata": {},
   "outputs": [],
   "source": [
    "filter_df.reset_index(drop= True , inplace= True)\n",
    "dt = filter_df"
   ]
  },
  {
   "cell_type": "code",
   "execution_count": 10,
   "id": "601497a1",
   "metadata": {},
   "outputs": [
    {
     "data": {
      "text/html": [
       "<div>\n",
       "<style scoped>\n",
       "    .dataframe tbody tr th:only-of-type {\n",
       "        vertical-align: middle;\n",
       "    }\n",
       "\n",
       "    .dataframe tbody tr th {\n",
       "        vertical-align: top;\n",
       "    }\n",
       "\n",
       "    .dataframe thead th {\n",
       "        text-align: right;\n",
       "    }\n",
       "</style>\n",
       "<table border=\"1\" class=\"dataframe\">\n",
       "  <thead>\n",
       "    <tr style=\"text-align: right;\">\n",
       "      <th></th>\n",
       "      <th>Lyric</th>\n",
       "      <th>Genres</th>\n",
       "    </tr>\n",
       "  </thead>\n",
       "  <tbody>\n",
       "    <tr>\n",
       "      <th>0</th>\n",
       "      <td>Two young people without a thing\\nSay some vow...</td>\n",
       "      <td>Country</td>\n",
       "    </tr>\n",
       "    <tr>\n",
       "      <th>1</th>\n",
       "      <td>Here we are, talkin' 'bout forever\\nBoth know ...</td>\n",
       "      <td>Country</td>\n",
       "    </tr>\n",
       "    <tr>\n",
       "      <th>2</th>\n",
       "      <td>When I look into your soft green eyes\\nAnd whe...</td>\n",
       "      <td>Country</td>\n",
       "    </tr>\n",
       "    <tr>\n",
       "      <th>3</th>\n",
       "      <td>Way down yonder on the Chattahoochee\\nIt gets ...</td>\n",
       "      <td>Country</td>\n",
       "    </tr>\n",
       "    <tr>\n",
       "      <th>4</th>\n",
       "      <td>Have a little love on a little honeymoon\\nYou ...</td>\n",
       "      <td>Country</td>\n",
       "    </tr>\n",
       "    <tr>\n",
       "      <th>...</th>\n",
       "      <td>...</td>\n",
       "      <td>...</td>\n",
       "    </tr>\n",
       "    <tr>\n",
       "      <th>21548</th>\n",
       "      <td>Live as one will come a son\\nLove's a thing th...</td>\n",
       "      <td>Rock</td>\n",
       "    </tr>\n",
       "    <tr>\n",
       "      <th>21549</th>\n",
       "      <td>Alright, my name's Gary.\\nLet's go, it's beat ...</td>\n",
       "      <td>Rock</td>\n",
       "    </tr>\n",
       "    <tr>\n",
       "      <th>21550</th>\n",
       "      <td>Met her on a blind date, helping out an old ma...</td>\n",
       "      <td>Rock</td>\n",
       "    </tr>\n",
       "    <tr>\n",
       "      <th>21551</th>\n",
       "      <td>Got a reason to laugh,\\nGot a reason to cry.\\n...</td>\n",
       "      <td>Rock</td>\n",
       "    </tr>\n",
       "    <tr>\n",
       "      <th>21552</th>\n",
       "      <td>Hey, fella,\\nWhat you doin' with that girl ove...</td>\n",
       "      <td>Rock</td>\n",
       "    </tr>\n",
       "  </tbody>\n",
       "</table>\n",
       "<p>21553 rows × 2 columns</p>\n",
       "</div>"
      ],
      "text/plain": [
       "                                                   Lyric   Genres\n",
       "0      Two young people without a thing\\nSay some vow...  Country\n",
       "1      Here we are, talkin' 'bout forever\\nBoth know ...  Country\n",
       "2      When I look into your soft green eyes\\nAnd whe...  Country\n",
       "3      Way down yonder on the Chattahoochee\\nIt gets ...  Country\n",
       "4      Have a little love on a little honeymoon\\nYou ...  Country\n",
       "...                                                  ...      ...\n",
       "21548  Live as one will come a son\\nLove's a thing th...     Rock\n",
       "21549  Alright, my name's Gary.\\nLet's go, it's beat ...     Rock\n",
       "21550  Met her on a blind date, helping out an old ma...     Rock\n",
       "21551  Got a reason to laugh,\\nGot a reason to cry.\\n...     Rock\n",
       "21552  Hey, fella,\\nWhat you doin' with that girl ove...     Rock\n",
       "\n",
       "[21553 rows x 2 columns]"
      ]
     },
     "execution_count": 10,
     "metadata": {},
     "output_type": "execute_result"
    }
   ],
   "source": [
    "dt"
   ]
  },
  {
   "cell_type": "code",
   "execution_count": 11,
   "id": "6360bfff",
   "metadata": {},
   "outputs": [
    {
     "data": {
      "image/png": "[encoded data removed]",
      "text/plain": [
       "<Figure size 720x360 with 1 Axes>"
      ]
     },
     "metadata": {
      "needs_background": "light"
     },
     "output_type": "display_data"
    }
   ],
   "source": [
    "plt.figure(figsize=(10,5))\n",
    "\n",
    "sns.countplot(x='Genres', data=dt)\n",
    "\n",
    "plt.title('Песни по жанрам на английском языке')\n",
    "plt.ylabel('Количество песен', fontsize=12)\n",
    "plt.xlabel('Жанр', fontsize=12)\n",
    "plt.show()"
   ]
  },
  {
   "cell_type": "markdown",
   "id": "7a719493",
   "metadata": {},
   "source": [
    "# предобработка"
   ]
  },
  {
   "cell_type": "code",
   "execution_count": 12,
   "id": "f99e672d",
   "metadata": {},
   "outputs": [],
   "source": [
    "import re"
   ]
  },
  {
   "cell_type": "code",
   "execution_count": 13,
   "id": "f487c49a",
   "metadata": {},
   "outputs": [],
   "source": [
    "dt1 = dt['Lyric'].values.tolist()"
   ]
  },
  {
   "cell_type": "code",
   "execution_count": 14,
   "id": "b7c5eb49",
   "metadata": {},
   "outputs": [],
   "source": [
    "def prep():\n",
    "    body_parsed = []\n",
    "    for text in dt1:\n",
    "        text = str(text)\n",
    "        text = text.lower()\n",
    "        text = re.sub(r\"what's\", \"what is \", text)\n",
    "        text = re.sub(r\"’\", \"'\", text)\n",
    "        text = re.sub(r\"\\'s\", \" \", text)\n",
    "        text = re.sub(r\"\\'ve\", \" have \", text)\n",
    "        text = re.sub(r\"can't\", \"can not \", text)\n",
    "        text = re.sub(r\"haven't\", \"have not \", text)\n",
    "        text = re.sub(r\"don't\", \"do not \", text)\n",
    "        text = re.sub(r\"wouldn't\", \"would not \", text)\n",
    "        text = re.sub(r\"i'm\", \"i am \", text)\n",
    "        text = re.sub(r\"\\'re\", \" are \", text)\n",
    "        text = re.sub(r\"\\'d\", \" would \", text)\n",
    "        text = re.sub('2', 'two', text)\n",
    "        text = re.sub(r\"\\'ll\", \" will \", text)\n",
    "        text = re.sub(r\"\\'scuse\", \" excuse \", text)\n",
    "        text = re.sub(r'says, \"', 'says: \"', text)\n",
    "        text = re.sub(\"in'\", 'ing', text)\n",
    "        text = text.replace(\"\\n\", \" \")\n",
    "        text = text.replace(\"\\t\", \" \")\n",
    "        text = text.strip(' ')\n",
    "        text = re.sub(\"[^a-zA-Z]\",\" \", text)\n",
    "        body_parsed.append(text)\n",
    "    return body_parsed\n",
    "\n",
    "    "
   ]
  },
  {
   "cell_type": "code",
   "execution_count": 17,
   "id": "e6b2c4b4",
   "metadata": {},
   "outputs": [
    {
     "data": {
      "text/plain": [
       "['two young people without a thing say some vows and spread their wings settle down with just what they need living on love  she do not  care  bout what is  in style she just likes the way he smiles it takes more than marble and tile living on love  livin on love  buyin on time without somebody nothing aingt worth a dime just like an old fashion story book rhyme livin on love it sounds simple  that  what you are  thinkin but love can walk through fire without blinkin it doens t take much when you get enough livin on love  two old people without a thing children gone but still they sing side by side in that front porch swing livin on love  he can not  see anymore she can barely sweep the floor hand in hand they will  walk through that door just livin on love  livin on love  buyin on time without somebody nothing aingt worth a dime just like an old fashion story book rhyme livin on love it sounds simple that  what you are  thinkin but love can walk through fire without blinkin it doens t take much when you get enough livin on love  no it doesn t take much when you get enough livin on love',\n",
       " 'here we are  talking  bout forever both know damn well  it  not easy together we have  both felt love  we have  both felt pain i will  take the sunshine over the rain  and i will  try to love only you and i will  try my best to be true oh darling  i will  try  so i am  not scared  it  worth a chance to me take my hand  let  face eternity well  i can not  tell you that i will  never change but i can swear that in every way  and i ll try to love only you and i ll try my best to be true oh darling i ll try  i am  not perfect  just another man but i will give you all that i am',\n",
       " 'when i look into your soft green eyes and when i see your delicate body revealed to me as you slip off your dress i am  reminded that what i feel for you will remain strong and true long after the pleasures of the flesh and   chorus   i will  go on loving you i will  go on loving you i will  go on loving you  and be it the wind or the rain or the moon up in the sky the spin of the earth or the changes in the tide i do not  know what brought us together what strange forces of nature conspired to construct the present from the past but   chorus   when i look into your soft green eyes and when i see your delicate body revealed to me as you slip off your dress i am  reminded that what i feel for you will remain strong and true long after the pleasures of the flesh and   chorus ',\n",
       " 'way down yonder on the chattahoochee it gets hotter than a hoochie coochie we laid rubber on the georgia asphalt we got a little crazy but we never got caught  down by the river on a friday night pyramid of cans in the pale moonlight talking  bout cars and dreaming  bout women never had a plan  just a living for the minute  yeah way down yonder on the chattahoochee never knew how much that muddy water meant to me but i learned how to swim and i learned who i was a lot about living and a little  bout love  well we fogged up the windows in my old chevy i was willing but she wasn t ready so i settled for a burger and a grape sno cone i dropped her off early but i didn t go home  down by the river on a friday night pyramid of cans in the pale moonlight talking  bout cars and dreaming  bout women never had a plan  just a living for the minute  yeah way down yonder on the chattahochee never knew how much that muddy water meant to me but i learned how to swim and i learned who i was a lot about living and a little  bout love  yeah way down yonder on the chattahochee never knew how much that muddy water meant to me but i learned how to swim and i learned who i was a lot about living and a little  bout love a lot about living and a little  bout love',\n",
       " 'have a little love on a little honeymoon you got a little dish and you got a little spoon a little bitty house and a little bitty yard a little bitty dog and a little bitty car  well  it  alright to be little bitty a little hometown or a big old city might as well share  might as well smile life goes on for a little bitty while  a little bitty baby in a little bitty gown it will  grow up in a little bitty town a big yellow bus and little bitty books it all started with a little bitty look  well  it  alright to be little bitty a little hometown or a big old city might as well share  might as well smile life goes on for a little bitty while  you know you got a job and a little bitty check a six pack of beer and television set little bitty world goes around and around little bit of silence and a little bit of sound  a good old boy and a pretty little girl start all over in a little bitty world little bitty plan and a little bitty dream it  all part of a little bitty scheme  it  alright to be little bitty a little hometown or a big old city might as well share  might as well smile life goes on for a little bitty while  it  alright to be little bitty a little hometown or a big old city might as well share  might as well smile life goes on for a little bitty while',\n",
       " 'remember when i was young and so were you and time stood still and love was all we knew you were the first  so was i we made love and then you cried remember when  remember when we vowed the vows and walked the walk gave our hearts  made the start  it was hard we lived and learned  life threw curves there was joy  there was hurt remember when  remember when old ones died and new were born and life was changed  disassembled  rearranged we came together  fell apart and broke each other  hearts remember when  remember when the sound of little feet was the music we danced to week to week brought back the love  we found trust vowed we would  never give it up remember when  remember when thirty seemed so old now looking back  it  just a stepping stone to where we are  where we have  been said we would  do it all again remember when  remember when we said when we turned gray when the children grow up and move away we won t be sad  we will  be glad for all the life we have  had and we will  remember when  remember when remember when',\n",
       " 'work  work all week long punching that clock from dusk till dawn  counting the days till friday night that  when all the conditions are right  for a good time i need a good time   yea  i have  been working all week and i am  tired and i do not  wanna sleep i wanna have fun it  time for a good time  i cashed my check  cleaned my truck put on my hat  forgot about work sun going down  head across town pick up my baby and turn it around good time  aahh  i need a good time  i have  been working all week and i am  tired and i do not  wanna sleep i wanna have fun time for a good time  hey   pig in the ground  beer on ice just like ole hank taught us about singing along  bocephus songs rowdy friends all night long good time lord  we are  having a good time   yea  i have  been working all week and i am  tired and i do not  wanna sleep i wanna have fun it  time for a good time  whew  heel toe dosey doe scooting our boots  swinging doors b   d kix and dunn honking tonk heaven  double shotgun good time  lord  we are  having a good time  cause i have  been working all week and i am  tired and i do not  wanna sleep i wanna have fun it  time for a good time  shot of tequila  beer on tap sweet southern woman set on my lap g with an o  o with a d t with an i and an m and an e and a good time shhheww  good time i have  been working all week and i am  tired and i do not  wanna sleep i wanna have fun it  time for a good time  ahh  turn it up now   a shot of tequila  beer on tap  a good looking woman  to set on my lap   a g with an o  an o with a d a t with an i an m with an e that spells good time a good time  ohh  i have  been working all week and i am  tired and i do not  wanna sleep i wanna have fun time for a good time  twelve o clock  two o clock three o clock four five o clock we know were that  gonna go closing the door  shutting em down head for that waffle house way across town good time ohh  we are  having a good time  ohh  i have  been working all week and i am  tired and i do not  wanna sleep i wanna have fun it  time for a good time  ohh  i have  been working all week and i am  tired and i do not  wanna sleep i wanna have fun it  time for a good time  ohh  i have  been working all week and i am  tired and i do not  wanna sleep i wanna have fun it  time for a good time  ohh  yea  a good time  i need a good time  yea  a good time ',\n",
       " 'what a friend we have in jesus  all our sins and griefs to bear  what a privilege to carry everything to god in prayer  o what peace we often forfeit  o what needless pain we bear  all because we do not carry everything to god in prayer   have we trials and temptations  is there trouble anywhere  we should never be discouraged  take it to the lord in prayer  can we find a friend so faithful who will all our sorrows share  jesus knows our every weakness  take it to the lord in prayer ',\n",
       " 'tomatoes on the vine  elderberry wine last week  clothes drying on the line momma in the kitchen  daddy down the hall bourbon on the table  jesus on the wall  front porch  back porch  crickets in the trees plowing up the garden  putting down the seed build a little scarecrow  stringing up the beans praying for the sunshine  pulling up the weeds  back  i am  bringing country back back where it belongs  back on track i think ol  hank would like it like that i got my boots  i got my hat i am  bringing country back  pickup truck  four wheel drive catfish dinner on a saturday night shirt tail in sunday  dinner on the ground back in time for football  pour another round  back  i am  bringing country back back where it b longs  back on track yeah  i think ol  hank would like it like that i got my boots  i got my hat lord  i am  bringing country back  two st p  three step  dancing in line gas up that old john deere  take her for a ride cruising  round the court square every friday night ride out in the country  see the lightning bugs light  find a little june bug  tie him on a string fly him in a circle till your head begins to swing patch an old tire tube  float it down the stream blue jeans  prom queens  homemade ice cream  back  i am  bringing country back back where it belongs  back on track yeah  i think ol  hank would like it like that i got my boots  i got my hat i am  bringing country back  strum a little guitar  pick an old song grandma on the banjo  family sings along baby makes the cornbread  sister makes the tea dance a little jig  round the kitchen with me  back  i am  bringing country back back where it belongs  back on track yeah  i think ol  hank would like it like that i got my boots  i got my hat lord  i am  bringing country back  fishing in a jon boat  gigging in the dark eating watermelon on a table in the yard chicken in a brown bag  picnic in the park dragging up the hay bales  stack  em in the barn ya will   songs about heartbreak  pair of swinging doors riding on the tailgate  sawdust on the floors jukebox  tater tots  praying on our knees andy on the tv  loving on aunt bee  back  yeah  i am  bringing country back back where it belongs  back on track yeah  i think ol  hank would like it like that i got my boots  i got my hat i am  bringing country back  working for a living  proud to pay the man wake up every morning happy that we can yes sir  yes ma am  stand up for the flag thank the lord in heaven for the freedom that we have  back  i am  bringing country back back where it belongs  back on track yeah  i think ol  hank would like it like that i got my boots  i got my hat i am  bringing country back',\n",
       " 'it  been way too long since you slipped away i just can not  forget  i can not  pretend it  ok no other one could ever replace you so i will  keep on believing and dreaming of you  soft steel guitar oh how i have  missed you words from the heart let me hear you again sounds from the soul  fiddle i need you sweet country music where have you gone  sweet country music please come back home  the songs from your memory i cling to today i won t let them leave me  i won t let them fade i do not  care what th y do  you are  still the one i will  b  here in nashville  til you return  soft steel guitar oh how i have  missed you words from the heart let me hear you again sounds from the soul  fiddle i need you sweet country music where have you gone  sweet country music please come back home  sweet country music where have you gone  the airwaves are waiting  please come back home',\n",
       " 'excuse me ma am  i saw you walking i turned around  im not a stalker where you going  maybe i can help you my tank is full  id be obliged to take you  cause im a country boy  i got a four wheel drive climb in my bed and ill take you for a ride up city streets  down country roads i can get you where you need to go cause im a country boy  you sure look good sitting in my right seat buckle up and ill take you through the five speeds wind it up or i can slow it way down in the woods or right up town  im a country boy  got a four wheel drive climb in my bed and ill take you for a ride up city streets  down country roads yeah  i can get you where you need to go cause im a country boy  big thirty fives  winding on the asphalt grabbing mud and slinging up some red dirt cause im a country boy  my mufflers loud  dual thrust tubes crank the music and the tone gets real good let me know when we are  getting close you can slide on out or we can head on down the road  cause im a country boy  i got a four wheel drive climb in my bed and ill take you for a ride up city streets  down country roads yeah  i can get you where you want to go cause im a country boy  bucket seats  soft as babys nude butt locking  incomprehensible  to take you through a deep rut  cause im a country boy  i got a four wheel drive climb in my bed and ill take you for a ride up city streets  down winding roads yeah  i can get you where you need to go cause im a country boy  yeah  im a country boy  i got a four wheel drive climb in my bed and ill take you for a ride up city streets  down country roads i can get you where you want to go cause im a country boy  yeah  im a country boy ah  im just a country boy  a nice little country boy',\n",
       " 'it was painted red the stripe was white it was eighteen feet from the bow to the stern light secondhand from a dealer in atlanta i rode up with daddy when he went there to get her we put on a shine  put on a motor built out of love  made for the water ran it for years   til the transom got rotten a piece of my childhood that will never be forgotten  it was just an old plywood boat with a     johnson with electric choke a young boy two hands on the wheel i can not  replace the way it made me feel and i would turn her sharp and i would make her whine he would  say  you can not  beat the way an old wood boat rides  just a little lake across the alabama line but i was king of the ocean when daddy let me drive  just an old half ton shortbed ford my uncle bought new in     daddy got it right  cause the engine was smoking a couple of burnt valves and he had it going he let me drive her when we would  haul off a load down a dirt strip where we would  dump trash off of thigpen road i would  sit up in the seat and stretch my feet out to the pedals smiling like a hero that just received his medal  it was just an old hand me down ford with a three speed on the column and a dent in the door a young boy two hands on the wheel i can not  replace the way it made me feel and i would press the clutch and i would keep it right and he would  say   a little slower son you are  doing just fine  just a dirt road with trash on each side but i was mario andretti when daddy let me drive  i am  grown up now three daughters of my own i let them drive my old jeep across the pasture at our home maybe one day they will  reach back in their file and pull out the old memory and think of me and smile and say  it was just an old worn out jeep rusty old floorboard  hot on my feet a young girl two hands on the wheel i can not  replace the way it made me feel and he would  say   turn it left and steer it right  straighten up girl  now you are  doing just fine  just a little valley by the river where we would  ride but i was high on a mountain when daddy let me drive  when daddy let me drive  oh he let me drive  she  just an old plywood boat with a     johnson with electric choke',\n",
       " 'i can hear her heart beat it seams a little strong i can hear the things i did wrong i can hear her thoughts by looking in her eyes i can hear her all the times she cried i can hear the memories as they echo off the wall falling from the pictures down the hall i can hear regret building up in side of me and i can hear all the things i could not see those are the sounds of a woman leaving stronger then the wind in a willow tree those are the sounds of a heart breaking you can not  hear it but the noise is killing me  i should of heard it coming but i chose to pretend i should of recognizes that sound way back then but i just would not  listen didn t want to all those years now the truth is ringing clear in my ears those are the sounds of a woman leaving stronger then the wind in willow tree those are the sounds of a heart breaking you can not  hear it but the noise is killing me those are the sounds of a heart breaking you can not  hear it but the noise is killing me i can hear it and the silent is killing me',\n",
       " 'blessed assurance  jesus is mine  o what a foretaste of glory divine  heir of salvation  purchase of god  born of his spirit  washed in his blood    refrain   this is my story  this is my song  praising my savior all the day long  this is my story  this is my song  praising my savior all the day long   perfect submission  perfect delight  visions of rapture now burst on my sight  angels descending bring from above echoes of mercy  whispers of love   refrain   by kafuneh',\n",
       " 'i love to tell the story of unseen things above  of jesus and his glory  of jesus and his love  i love to tell the story  because i know  tis true  it satisfies my longings as nothing else can do    refrain   i love to tell the story   twill be my theme in glory  to tell the old  old story of jesus and his love  i love to tell the story  for those who know it best seem hungering and thirsting to hear it like the rest  and when  in scenes of glory  i sing the new  new song   twill be the old  old story that i have loved so long    refrain ',\n",
       " 'the older i get the more i think you only get a minute  better live while you are  in it  cause it  gone in a blink and the older i get the truer it is it  the people you love  not the money and stuff that makes you rich  and if they found a fountain of youth i would not  drink a drop and that  the truth funny how it feels i am  just getting to my best years yet  the older i get the fewer friends i have but you do not  need a lot when the ones that you got have always got your back and the older i get the better i am at knowing when to give and when to just not give a damn  and if they found a fountain of youth i would not  drink a drop and that  the truth funny how it feels i am  just getting to my best years yet the older i get  and i do not  mind all the lines from all the times i have  laughed and cried souvenirs and little signs of the life i have  lived  the older i get the longer i pray i do not  know why  i guess that i got more to say and the older i get the more thankful i feel for the life i have  had  and all the life i am  living still',\n",
       " 'everywhere you look you can write a book on the trouble of a woman and a man but you can not impose you can not  stick your nose into something that you do not  understand  but still you wonder who  cheating who who  being true and who do not  even care anymore it makes you wonder who  doing right with someone tonight and who  car is parked next door  i thought i knew her well i really couldn t tell that she had another lover on her mind you see it felt so right when she held me tight how could i be so blind  but still you wonder who  cheating who who  being true and who do not  even care anymore it makes you wonder who  doing right with someone tonight who  car is parked next door  a heart is on the line each and every time love is stolen in the shadows of the night though it  wrong all along it keeps going on as long as you keep in outta sight  still you wonder who  cheating who and who  being true who do not  even care anymore it makes you wonder who  doing right with someone tonight who  car is parked next door  still you wonder who  cheating who and who  being true and who do not  even care anymore it makes you wonder who  doing right with someone tonight who  car is parked next door  still you wonder who  cheating who and who  being true and who do not  even care anymore it makes you wonder who  doing right with someone tonight who  car is parked next door',\n",
       " 'let  begin with the day i met her how fast this good old boy  world got better sky got bluer  the grass got greener just the first few seconds after i first seen her like my favorite song on a new set of speakers my best old jeans and my broke in sneakers a home run pitch floating right down the middle the sweet music made when the bow hits the fiddle she  right on the money she goes directly to my heart and when it comes to loving me she  everything  i mean bulls eye perfect she  right on the money she  no red lights when i have  overslept she  a three point jump shot that  nothing but net a hand full of aces  the dealer  done dealing i am  forever on a roll  that  how she  got me feeling she  right on the money she goes direct to my heart and when it comes to loving me  she  everything  i mean bulls eye perfect she  right on the money she  the best cook that  ever melted cheese i aingt much around the house  but i aim to please there  absolutely no reason to doubt her when she says i would not  last ten minutes without her she  right on the money she goes directly to my heart and when it comes to loving me she  everything  i mean bulls eye perfect she  right on the money',\n",
       " 'i know you are  leaving i see the signs you are  gonna walk out on this heart of mine you will  never call me you will  never write  you have  made your mind up  you are  gone tonight if some rainy day you are  all alone you feel like talking  you can log me on  at www memory  i will  be waiting for you patiently if you feel the need  just click on me at www memory  you won t even have to hold me or look into my eyes you can tell me that you love me through your keyboard and wires no  you won t have to touch me or even take my hand just slide your little mouse around until you see it land  at www memory i will  be waiting for you patiently if you feel the need  just click on me at www memory if you feel like love  just click on me at www memory',\n",
       " 'lace up boots and faded jeans a homemade sandwich  a half jug of tea average joe  average pay same ol  end and same ol  day  but there  nothing wrong with a hard hat and a hammer kind of glue that sticks this world together hands of steel and cradle of the promised land god bless the working man  all week long making a living life keeps taking  he keeps giving behind the scene  below the grade hardly noticed but part of everything  but there  nothing wrong with a hard hat and a hammer kind of glue that sticks this world together hands of steel and cradle of the promised land god bless the working man   he gives his life then fades away another young man takes his place average joe  average pay same ol end  same old  day  but there  nothing wrong with a hard hat and a hammer kind of glue that sticks this world together hands of steel and cradle of the promised land  no  there  nothing wrong with a hard hat and a hammer kind of glue that sticks this world together hands of steel and cradle of the promised land god bless the working man  the working man oh  the working man and woman  by  elvitoreo',\n",
       " 'when the frantic pace of life attacks me and weighs me to the ground i long for someplace to escape to the one place i have found  no stoplights to obey no signs or limits there just drop the hook and make your home almost anywhere  where the sky meets the water where the wind is my song where the sun is my brother that s where i belong  the gentle motion of the seas just rocks me off to sleep no sirens  cars or screams just quiet ocean breeze  a frigate bird encircles me a      feet above she dips her wing and bows her head like we share a common love  where the sky meets the water where the wind is my song where the sun is my brother that s where i belong  when the moonlight cracks the edge of night and stars are everywhere i can taste the rum and coke and i can smell that salty air  a light spray across my bow cools the evening sun as it slowly melts into the sea and tells me day is done  where the sky meets the water where the wind is my song where the sun is my brother that s where i belong  when the common themes of life they come and overload my brain i steer my thoughts right to that place that takes me far away  when the traffic fills that concrete path that takes me back and forth i usually sit and dream about that biggest piece of earth  where the sky meets the water where the wind is my song where the sun is my brother that s where i belong  where the sky meets the water where the wind is my song where the sun is my brother that s where i belong  yeah  that s where i belong oh  that s where i belong  by  elvitoreo',\n",
       " 'there  a red outline where that diamond used to be another time stamped love ends in casualty a one bedroom apartment is now her greatest fear as the crash of all the memories ring from ear to ear  she  headed north out of savannah stretching her pride and gasoline heart as empty as that red gauge asking god to help her see why he took her ther   why he broke her h art where the wheels will stop and the healing starts chasing i    and racing the dark  it  been two years now  she  just starting to see her life is hers again and who she  gonna be she  so used to running can not  get nowhere sitting still in the silence of the morning she feels his love and always will  she  headed southbound towards savannah stretching her pride and gasoline heart as empty as that red gauge asking god to help her see why to go back there  when she would  come so far if she really stops will the healing start  chasing i    and racing the dark  there  a red outline where some roses used to be even standing there she still can not  believe she never saw it coming  thought she would  be the one to leave she whispers  i love you  and falls down on her knees  now she  back home in savannah making friends with memories her heart is fragile but it  open thanking god he helped her see why he took her there  how he will  heal her heart when her running stops so her life can start right off i    and facing the dark right off i    and facing the dark',\n",
       " 'have you been to jesus for the cleansing power  are you washed in the blood of the lamb  are you fully trusting in his grace this hour  are you washed in the blood of the lamb   chorus  are you washed in the blood  in the soul cleansing blood of the lamb  are your garments spotless are they white as snow  are you washed in the blood of the lamb   lay aside your garments that are stained with sin and be washed in the blood of the lamb  there  a fountain flowing for the soul unclean  o  be washed in the blood of the lamb   chorus',\n",
       " 'some glad morning when this life is over  i will  fly away  to a home on god  celestial shore  i will  fly away  i will  fly away     chorus  i will  fly away  oh glory i will  fly away  when i die  hallelujah  by and by  i will  fly away  i will  fly away    just a few more weary days and then  i will  fly away  to a land where joy shall never end  i will  fly away  i will  fly away    chorus ',\n",
       " 'rockie burned up the movie screen and i was turnin seventeen tie dyed shirts and levis jean  lookin cool at the dairy queen tryin to impress a young woman in her sunday dress  and that was       didnt know who i was yet a pretty little blonde haired girl stole my heart and changed my world two kids and a moonlit sky a little love on a friday night built a fire that just wont quit  that was       my high school days i packed away  set my sights on a bigger stage jimmy carter moved to dc  a georgia boy just like me life seemed easy nothin much that we needed  that was       didnt know who i was yet a pretty little blonde haired girl stole my heart and changed my world two kids and a moonlit sky a little love on a friday night built a fire that just wont quit  that was        instrumental interlude   eight track tapes were still in style and elvis was still alive wonder woman sure looked fine  bionic man was still prime time and that girl i liked  we kept on tryin till we got it right  and that was       didnt know who i was yet a pretty little blonde haired girl stole my heart and changed my world two kids and a moonlit sky a little love on a friday night built a fire that just wont quit  that was       yeah  that was       didnt know who we were yet built a fire that just wont quit and that was       we built a fire that just wont quit  that was     ',\n",
       " 'i can hardly bear the sight of lipstick on the cigarettes there in the ashtray lying cold the way you left them but at least your lips caressed them while you packed and a lip print on a half filled cup of coffee that you poured and didn t drink but at least you thought you wanted it an  that  so much more than i can say for me  but what a good year for the roses many blooms still linger there the lawn could stand another mowing it  funny  i do not  even care when you turned and walked away and as the door behind you closes the only thing i know to say it  been a good year for the roses  after three full years of marriage it  the first time that you have not  made the bed i guess the reason we are  not talking  there  so little left to say  we have not  said an  while a million thoughts go running through my mind  i find i have not  spoke a word and from the bedroom  the familiar sound of our one baby  crying  goes unheard  chorus',\n",
       " 'have a holly jolly christmas it  the best time of the year well i do not  know if there will  be snow but have a cup of cheer  have a holly jolly christmas and when you walk down the street say hello to friends you know and everyone you meet  ho ho the mistletoe hung where you can see somebody waits for you kiss her once for me  have a holly jolly christmas and in case you didn t hear oh bygolly have a holly jolly christmas this year  have a holly jolly christmas and when you walk down the street say hello to friends you know and everyone you meet  have a holly jolly christmas and in case you didn t hear oh bygolly have a holly jolly christmas this year',\n",
       " 'we still wore our rings we still say i love you we both play the part oh so well but everyone knows it  just a sad show and we are  only fooling ourselves  it  like living in a house with no curtains the whole world can see what is  inside you can turn out the lights in a house with no curtains but heartache has nowhere to hide  we could pack up and leave in different directions if we just had somewhere to go we just keep on pretending afraid of the ending admitting what everyone knows  it  like living in a house with no curtains the whole world can see what is  inside you can turn out the lights in a house with no curtains but heartache has nowhere to hide  you can turn out the lights in a house with no curtains but heartache has nowhere to hide',\n",
       " 'well tonight if you turn your radio on you might hear a sad  sad song about someone who lost everything they had it may sound like me but i am  a little bluer than that  when you look out in the morning you might see clouds rolling by like memories a big old sky above you looking back you may think of me but i am  a little bluer than that  chorus where did we go wrong i wish i knew it haunts me all the time now wherever i go and whatever i do you are  always on my mind  i can picture you in his arms tonight but as for me it do not  feel right to let us fade like some old photograph it may work for you but i am  a little bluer than that  chorus  so tonight if you turn your radio on you might hear a sad  sad song about someone who lost everything they had it may sound like me but i am  a little bluer than that  you may think of me but i am  a little bluer than that  two    emi april music inc  irene kelley music  ascap  all right for irene kelley music controlled and adm by emi april music inc ',\n",
       " 'well i have  been wondering what i have  been missing i guess i should have known but my heart does and it aingt whispering it tells me just what it wants  someone who knows what i like in my coffee and the shape of my ol  hat a lover who always looks at me not through me i need a love like that  i need a love like that i could use a little sun on my back a truck needs a highway  a train needs a track i need a love like that  well i need a new car but i can not  afford it so i keep patching that ol  flat my heart  lonely and i can not  ignore it i need a love like that  yeah  i need a love like that i could use a little sun on my back a truck needs a highway  a train needs a track i need a love like that  two young people dancing in the daylight they do not  care where they are  at waiting on sunset holding on so tight i need a love like that  yeah  i need a love like that i could use a little sun on my back a truck needs a highway  a train needs a track i need a love like that  one little baby hiding in the shadow of her daddy  hat loving and trusting blindly she will  follow i need a love like that  yeah  i need a love like that i could use a little sun on my back a truck needs a highway a train needs a track and i need a love like that  yeah  a truck needs a highway  a train needs a track and i need a love like that',\n",
       " 'i was lucky as a child mama taught us right from wrong and how jesus loves us all though they barely did get by i never saw them cry they said when things get rough you gotta pick yourself up now  the years have taken me down a twisted crazy street at times i have  drifted off the path that i should walk  and jesus helped me through some hard times my wife and children by my side i am  not perfect by a long mile no matter how i try but i have  been blessed enough in my life to make up for any strife if you look closely deep in my eyes you might see a few happy tears from a man who never cries  it  hard to let my feelings show the ones i love do not  always know like i am  leading my horse blind to a place that i can not  find but i know i can not  complain i have  seen more sun than i have rain when i look at where i have  come who i am and what i have  done  oh i know  and jesus helped me through some hard times my wife and children by my side i am  not perfect by a long mile no matter how i try but i have  been blessed enough in my life to make up for any strife if you look closely deep in my eyes you might see a few happy tears from a man who never cries  and jesus helped me through some hard times my wife and children by my side i am  not perfect by a long mile no matter how i try but i have  been blessed enough in my life to make up for any strife if you look closely deep in my eyes you might see a few happy tears from a man who never cries from a man who never cries from a man who never cries',\n",
       " 'cowboys and pioneers  come lend your eyes and ears i have  got the need to testify do not  try to fill your nest out in the open west  cuz there  a million ways to die  six bullets in the gut or just a paper cut too many ways to quantify they will  cut your ankle off to cure a minor cough  cuz there  a million ways to die a million ways to die  it  a hundred and one in the shade of the sun if you fall asleep  you fry a million ways to die you can live like a saint but there just really aingt no avoiding a million ways to die  smallpox and bigger pox  and deadly tomahawks or god forbid you steal a pie they will  blast you into shards for being good at cards  cuz there  a million ways to die  out on the desert plains it hardly ever rains and you can hear coyotes cry they will  eat you up and then they will  shit you out again  cuz there  a million ways to die a million ways to die  with a whoosh and a whack there  a knife in your back  cuz you got a fancy tie a million ways to die it  a kick in the pants but you do not  have a chance of escaping a million ways to die a million ways to die',\n",
       " 'i have felt it and i have held it i have known a woman  love  i have tasted and i have wasted a woman  love  and i know i will  never understand all the little things that make it grand a woman  love  and i know i will  never come face to face with anything that takes the place of a woman  love  well i have kissed it tried to resist it i have missed a woman  love  and i have hated taken for granted a woman  love  and i know i will  never understand all the little things that make it grand a woman  love  and i know i will  never come face to face with anything that takes the place of a woman  love  well i have needed and i have pleaded and i have lost a woman  love  and i have worshipped and i have cursed it a woman  love  and i know i will  never understand all the little things that make it grand a woman  love  and i know i will  never come face to face with anything that takes the place of a woman  love  well i adore it thank god for it a woman  love',\n",
       " ' lonnie wilson ron moore carson chamberlain   love  a gamble every heart will take you roll the dice in hopes that it won t break one night i bet on your blue eyes and took a chance and won a whole lot more than one night of romance  chorus i held the ace of hearts that night in the dark how lucky can one man be i hold a winning hand anyway life deals the cards no way to lose  cause i got you my ace of hearts   love  a numbered wheel you have to spin there  no need for me to spin again cause loving you is paying off more than i knew i took a little risk and hit it big with you  chorus i held the ace of hearts that night in the dark how lucky can one man be i hold a winning hand anyway life deals the cards no way to lose  cause i got you my ace of hearts   chorus i held the ace of hearts that night in the dark how lucky can one man be i hold a winning hand anyway life deals the cards no way to lose  cause i got you my ace of hearts   i am  gonna hold on to my ace of hearts   ',\n",
       " 'her right hand closed the front porch door suddenly a child no more all the ribbons all the bows in a box now on her closet floor anxious for whats to come afraid to leave a place she loves  shes not a woman not a girl trying to find her place in this crazy world meet a lover make a friend try and figure out what this life really means after     broken hearts and rusted dreams sometimes make it hard to leave and certainty is out of reach even with some self belief so she bites her lip and shows a smile flips her hair and flaunts her style  shes not a woman not a girl trying to find her place in this crazy world meet a lover make a friend try and figure out what this life really means after     her memories she stowed away pulls them out on rainy days and brand new faces take their place beside the ones that never fade shes strong and fragile  weak and smart whatever the cost she plays the part  shes not a woman not a girl trying to find her place in this crazy world meet a lover make a friend try and figure out what this life really means after     her right hand closed the front porch door and suddenly a child no more   by  elvitoreo',\n",
       " 'i woke up with her in my arms this morning god knows i love her over all as she whispered she loved me your memory appeared aingt your mem ry got no pride at all  you were here we loved but now you are  gone why can not  you let bygones all be bygones yes and stay gone you always find the wrong times to come around to call aingt your mem ry got no pride at all aingt your mem ry got no pride at all  tonight i lay here touching her sweet body and the good familiar feeling i recall i closed my eyes to kiss her your memory appeared aingt your mem ry got no pride at all  you were here we loved but now you are  gone why can not  you let bygones all be bygones yes and stay gone you always find the wrong times to come around to call aingt your mem ry got no pride at all aingt your mem ry got no pride at all',\n",
       " 'i work a forty hour week and i earn my keep and i try to walk proud and tall i keep my nose to the ground  i do not  get behind and i do not  back up at all well my neck  a little red  my collar  blue i sip a little coffee  and i drink a little booze   cause i am  an all american country boy i am  my daddy  spitting image and my mama  pride and joy there aingt nothing down home that i really do not  enjoy  cause i am  an all american country boy  i drive a pickup truck and i do not  pass the buck and i always speak my mind i am  hooked on t  v    rolaids  and b  c    and i know how to have a good time i am  a little bit rowdy and a little bit tame aingt no way i am  ever gonna change   cause i am  an all american country boy i am  my daddy  spitting image and my mama  pride and joy there aingt nothing down home that i really do not  enjoy  cause i am  an all american country boy  well i must admit that i have  mellowed a bit father time can slow you down i am  still doing all i used to do it just takes a little longer now   cause i am  an all american country boy i am  my daddy  spitting image and my mama  pride and joy there aingt nothing down home that i really do not  enjoy  cause i am  an all american country boy  i am  just a country boy a good ol  country boy',\n",
       " 'the time has come  you are  really leavin you always told me that you wanted to i guess i never thought it would happen i guess i never really wanted it to the world is calling you and you must answer but you can take me with you in you drams  if you ever get back to amarillo in a shiny new car or worn out shoes if you ever get back to amarillo i be waitin for you  your sister told me you were workin at some office out in tinsel town don forget about those who love you they are  be there for you if you get down i believe in you and all you   e after i hope you end up where you want to be  chorus  thirty years now have gone by quickly i still think of you from time to time my wife died early  i   e got children i    happy and my health is fine i often wondered if you found your freedom i sometimes wonder if i should have gone  chorus',\n",
       " 'you can not  mix angels and alcohol i do not  think god meant for them to get along when it takes control you can not  love no one at all you can not  mix angels and alcohol  you can not  blend whiskey with a good woman  love they do not  go together loves already hard enough you think you can handle how it feels or what it does you can not  blend whiskey with a good woman  love  you can not  chase lonely with a bottle of wine it might ease the heartache for one short piece of time in the end you have to face what is  hiding in your mind you can not  chase lonely with a bottle of wine  you can not  mix angels and alcohol an angel once loved me and i traded it all i let the bottle drive my life into a wall you can not  mix angels and alcohol',\n",
       " ' harley allen carson chamberlain   i woke up the other night lying on the floor right beside someone i have  never seen before she said my name  juliet and romeo you aingt thats another good reason not to drink  thats another good reason not to drink when i am  sober i am  almost a saint if i keep going on like this i will  end up like ole hank thats another good reason not to drink  i cant go see my best friend he said stay away just because of what i said on his wedding day he oughta call a sherman cause she looks just like a tank thats another good reason not to drink  thats another good reason not to drink when i am  sober i am  almost a saint if i keep going on like this i will  end up like ole hank thats another good reason not to drink  i am  gonna sue to city about that policeman last night as i left the bar he stepped right on my hand he said  are you drunk or blind   i said  let me think   thats another good reason not to drink  thats another good reason not to drink when i am  sober i am  almost a saint if i keep going on like this i will  end up like ole hank thats another good reason not to drink  thats another good reason not to drink when i am  sober i am  almost a saint if i keep going on like this i will  end up like ole hank thats another good reason baby let me in i am  freezing another good reason not to drink',\n",
       " 'i have  been riding these blue highways another night has made me stop a weary bone can go no farther and here  where they will  drop  in my dreams your arms will find me they will hold me through the night and release me to my journey as another day grows live  i have  got so many miles to go and promises to keep right now all i wanna do is being anywhere on earth you are  i have  always been a gypsy and the road caused me to roam but each day brings me closer to the place where we call home  still got many miles to go and promises to keep right now all i wanna do is being anywhere on earth you are  in my dreams your arms will find me they will hold me through the night right now all i wanna do is being anywhere on earth you are',\n",
       " 'a big moon is rising so bright in the sky but it won t shine brighter than the stars in your eyes  it rises above me so bright and so blue and i won t see anyone as lovely as you  take me into the night pass these lonely dreams in my heart i love you more than i can show you more than i can know in my heart  so lay down beside me and hold me tonight for your love has found me and it feels so right  these thoughts in my mind are so scattered and few but i won t see anyone as lovely as you  take me into the night pass these lonely dreams in my heart i love you more than i can show you more than i can know in my heart in my heart',\n",
       " 'away in a manger alan jackson  away in a manger  no crib for his bed  the little lord jesus laid down his sweet head  the stars in the sky looked down where he lay  the little lord jesus asleep on the hay   the cattle are lowing  the baby awakes  but little lord jesus no crying he makes  i love thee  lord jesus  look down from the sky  and stay by my cradle  til morning is neigh   believe me  lord jesus  i asked thee to stay close by me forever and love me i pray keep all of the dear children in thy tender care and take us to heaven to live with thee there',\n",
       " 'i am a losing my mind chasing that assembly line bolting that same old part on a thousand times so i dream about the second when the buzzer goes off hit the pavement running to the parking lot for beer      whiskey      yeah  beer      whiskey     i have  been working hard all week and now i am  thirsty yeah  it  not too early and it  not too late time to get crazy  baby  i can not  wait for beer      whiskey      beer         to  two  friday  halfway done two to    clock out and make that run wipe that workday off my boots head for the party with the neon roof for beer      whiskey      yeah  beer      whiskey      beer      i have  been working hard all week and now i am  thirsty well  it  not too early and it  not too late time to get crazy  baby  i can not  wait for beer      whiskey      aww y ah  beer       well  we start at   and on our way to find   and   gets hard to walk that lin    o clock and then it    check that clock it  almost time for beer      whiskey      yeah  beer      whiskey      beer      i have  been working hard all week and now i am  thirsty yeah  it  not too early and it  not too late time to get crazy  baby  i can not  wait for beer      whiskey      beer       oh  pop a top again  yeah  beer      whiskey      beer      i have  been working hard all week and now i am  thirsty it  not too early and it  not too late time to get crazy  baby  i can not  wait for beer      whiskey      beer      yeah  beer      whiskey    ',\n",
       " 'this world can take you by the hand and tempt the soul of any man but you can choose your path there  two roads you can take one way is right and one way is wrong the flesh is weak  but love is strong and she  all i see between the devil and me  the gates of hell swing open wide inviting me to step inside i will  be your friend  he calls again  i know it  him the flames are spreading everywhere but through the smoke i see her there she  all i see between the devil and me  i hold her in my arms tonight so safe and warm i close my eyes and a cool breeze blows  cross our bodies in the dark outside her reach is my concern somewhere i know a fire burns and she  all i see between the devil and me  the gates of hell swing open wide inviting me to step inside i will  be your friend  he calls again  i know it  him the flames are spreading everywhere but through the smoke i see her there she  all i see between the devil and me  the gates of hell swing open wide inviting me to step inside she  all i see between the devil and me',\n",
       " 'oh i am  blessed and i know i am god has dealt me a winning hand a loving woman and a fairy land for me  oh and i can not  believe it half the time when i look at her in perfect light sweet vision every day and night i see   chorus  my baby has big green eyes brighter than the bluest sky softer than an angel flies sweeter than a lullaby and she loves me without design her picture never leaves my mind i do not  deserve a love this fine baby and her big green eyes  oh and i am  never very far away even if i am  in another place her smile you can not  erase from me  chorus   instrumental   oh and i am  thankful every waking hour for the love of a gentle flower a face i will never tire or leave  chorus  her picture never leaves my mind i do not  deserve a love this fine baby and her big green eyes',\n",
       " 'this aingt no song  bout the good old days simpler times or easy ways oh how i long for an old dirt road greener grass or a lighter load  i was glad to see the blacktop when they laid it down in     yeah i was glad to see the blacktop no more dust in my eyes  rain would fall and the mud would rise through my toes in the summertime all those teen would drive and play dust would fly like a dandelion  i was glad to see the blacktop when they laid it down in     yeah i was glad to see the blacktop no more dust in my eyes  i stomp my toes on rocks and stones slept in fairy mo park homes watch my momma shake that line dusting clothes off hanging in a hot sunshine  i was glad to see the blacktop when they laid it down in     yeah i was glad to see the blacktop no more dust in my eyes',\n",
       " 'blue blooded womans  she loves a violin  i love a fiddle we go separate ways but we meet in the middle do not  see eye to eye but we are  hand in hand a blue blooded woman and a redneck man  the lady i love loves silk and satin she was raised uptown with a silver spoon well  i was born on a farm just south of jackson we had an old ford tractor and a country moon  she loves a violin  i love a fiddle we go separate ways but we meet in the middle do not  see eye to eye but we are  hand in hand a blue blooded woman and a redneck man  she  saks fifth avenue perfection caviar and dignified well  i live my life in wal mart fashion and i like my sushi southern fried  she loves a violin  i love a fiddle we go separate ways but we meet in the middle do not  see eye to eye but we are  hand in hand a blue blooded woman and a redneck man  she loves a violin  i love a fiddle we go separate ways but we meet in the middle do not  see eye to eye but we are  hand in hand a blue blooded woman and a redneck man  she  a blue blooded woman  i am  a redneck man ',\n",
       " 'he met her in the fall of    in the hills of tennessee she was barely seventeen he was tall and strong and lean they were deep in love by june hand in hand beneath that moon  and she would  sing a little blue ridge mountain song and he would  just hum along they would  dance all night til dawn on a hillside all alone they were young and they were free like a mountain melody in love as they could be singing that blue ridge song  she married in her momma  wedding gown bought a house and settled down he worked driving all around  hauling logs from town to town and he would  come home every night she would  be waiting in the front porch light  and she would  sing a little blue ridge mountain song and he would  just hum along they would  dance all night til dawn on the front porch all alone they were young and they were free like a mountain melody in love as they could be singing that blue ridge song  they couldn t tell him what was wrong for they just didn t know it wasn t very long  til jesus called her home then he got down on his knees said  god do not  take my love from me  just let her sing a little blue ridge mountain song like she has all along i will  dance with her til dawn on a hillside all a lone and we will  spend eternity like a mountain melody in love as we can be singing that blue ridge song  now he lives there all alone in the house that they called home in his heart there lies a void from the absence of her voice and he lays down every night and dreams about that front porch light  where she would  sing a little blue ridge mountain song and he would  just hum along they would  dance all night til dawn on the hillside all alone they were young and they were free like a mountain melody in love as they could be singing that blue ridge song  a little blue ridge mountain song  singing that blue ridge song   sing a little blue ridge mountain song sing a little blue ridge mountain song  singing that blue ridge song   sing a little blue ridge mountain song sing a little blue ridge mountain song  singing that blue ridge song   sing a little blue ridge mountain song sing a little blue ridge mountain song a little blue ridge mountain song',\n",
       " 'he  just a singer a natural born guitar ringer kind of clinger to sad ole songs   he  not a walk behinder he  a new note finder but his name  a reminder of a blues man that  already gone   so he started drinkin took some things that messed up his thinkin he was sure sinkin when she came along   he was alone in the spot light not too much left in sight she changed all that in one night when she sang him this song  hey baby i love you hey baby i need you hey baby you do not  need to prove to me that you are  some kind of macho man you have  wasted so much of your life runnin through the dark night let me shine a little love light down on this blues man   he was so sick from speedin all that stuff they said he was needin if he was to keep pleasin all of his fans  he got cuffed on dirt roads he got sued over no shows she took all that ole load down off that blues man   hey baby i love you too hey baby i need you hey baby i do get tired of this travellin band  i am  over    years old now nights would be cold now if you hadn t stuck it out for this blues man  he  over    years old now nights would be so cold now if she hadn t hung around for that blues man']"
      ]
     },
     "execution_count": 17,
     "metadata": {},
     "output_type": "execute_result"
    }
   ],
   "source": [
    "body = prep()\n",
    "body[0:50]"
   ]
  },
  {
   "cell_type": "code",
   "execution_count": 19,
   "id": "99b4d171",
   "metadata": {},
   "outputs": [
    {
     "data": {
      "text/plain": [
       "Country         4774\n",
       "Rock            4671\n",
       "Heavy Metal     4394\n",
       "Indie           4289\n",
       "Rap; Hip Hop    3425\n",
       "Name: Genres, dtype: int64"
      ]
     },
     "execution_count": 19,
     "metadata": {},
     "output_type": "execute_result"
    }
   ],
   "source": [
    "y_labels = dt.Genres\n",
    "y_labels.value_counts()"
   ]
  },
  {
   "cell_type": "code",
   "execution_count": 20,
   "id": "ddb47162",
   "metadata": {},
   "outputs": [],
   "source": [
    "genres = y_labels.unique()\n",
    "genre_map = dict(enumerate(genres))"
   ]
  },
  {
   "cell_type": "code",
   "execution_count": 21,
   "id": "99715fb0",
   "metadata": {},
   "outputs": [],
   "source": [
    "genre_map = {value:key for key, value in genre_map.items()}"
   ]
  },
  {
   "cell_type": "code",
   "execution_count": 22,
   "id": "bfea7520",
   "metadata": {},
   "outputs": [],
   "source": [
    "y_labels = y_labels.map(genre_map)"
   ]
  },
  {
   "cell_type": "code",
   "execution_count": 23,
   "id": "ba29f3ba",
   "metadata": {},
   "outputs": [
    {
     "data": {
      "text/plain": [
       "0    4774\n",
       "4    4671\n",
       "1    4394\n",
       "3    4289\n",
       "2    3425\n",
       "Name: Genres, dtype: int64"
      ]
     },
     "execution_count": 23,
     "metadata": {},
     "output_type": "execute_result"
    }
   ],
   "source": [
    "y_labels.value_counts()"
   ]
  },
  {
   "cell_type": "markdown",
   "id": "f45066d2",
   "metadata": {},
   "source": [
    "# naive Baies"
   ]
  },
  {
   "cell_type": "code",
   "execution_count": 24,
   "id": "8578fad0",
   "metadata": {},
   "outputs": [],
   "source": [
    "from sklearn.model_selection import train_test_split\n",
    "X_train, X_test, y_train, y_test = train_test_split(body, y_labels, test_size=0.5, random_state=42)  "
   ]
  },
  {
   "cell_type": "code",
   "execution_count": 25,
   "id": "0f5f84b1",
   "metadata": {},
   "outputs": [
    {
     "data": {
      "text/plain": [
       "dtype('int64')"
      ]
     },
     "execution_count": 25,
     "metadata": {},
     "output_type": "execute_result"
    }
   ],
   "source": [
    "y_train.dtypes"
   ]
  },
  {
   "cell_type": "code",
   "execution_count": 26,
   "id": "2d0c5f23",
   "metadata": {},
   "outputs": [
    {
     "data": {
      "text/plain": [
       "Pipeline(steps=[('tfidf', TfidfVectorizer()), ('clf', MultinomialNB())])"
      ]
     },
     "execution_count": 26,
     "metadata": {},
     "output_type": "execute_result"
    }
   ],
   "source": [
    "from sklearn.feature_extraction.text import TfidfVectorizer\n",
    "from sklearn.naive_bayes import MultinomialNB\n",
    "from sklearn.pipeline import Pipeline\n",
    "\n",
    "# create a pipeline\n",
    "model_0 = Pipeline([\n",
    "    ('tfidf', TfidfVectorizer()),\n",
    "    ('clf', MultinomialNB()),\n",
    "])\n",
    "\n",
    "# fit pipeline to train data\n",
    "model_0.fit(\n",
    "    X=X_train,\n",
    "    y=y_train\n",
    ")"
   ]
  },
  {
   "cell_type": "code",
   "execution_count": 27,
   "id": "99559770",
   "metadata": {},
   "outputs": [
    {
     "data": {
      "text/plain": [
       "0.5743713463858217"
      ]
     },
     "execution_count": 27,
     "metadata": {},
     "output_type": "execute_result"
    }
   ],
   "source": [
    "model_0.score(\n",
    "    X=X_test,\n",
    "    y=y_test\n",
    ")"
   ]
  },
  {
   "cell_type": "code",
   "execution_count": 28,
   "id": "0cfd77b1",
   "metadata": {},
   "outputs": [
    {
     "data": {
      "text/plain": [
       "array([1, 0, 0, ..., 0, 4, 1])"
      ]
     },
     "execution_count": 28,
     "metadata": {},
     "output_type": "execute_result"
    }
   ],
   "source": [
    "baseline_preds = model_0.predict(X_test)\n",
    "baseline_preds"
   ]
  },
  {
   "cell_type": "code",
   "execution_count": 30,
   "id": "4ec931e0",
   "metadata": {},
   "outputs": [],
   "source": [
    "from sklearn.metrics import accuracy_score, precision_recall_fscore_support\n",
    "\n",
    "def calculate_results(y_true, y_pred):\n",
    "    model_accuracy = accuracy_score(y_true, y_pred)\n",
    "    model_precision, model_recall, model_f1, _ = precision_recall_fscore_support(y_true, y_pred, average=\"weighted\")\n",
    "    model_results = {\"accuracy\": model_accuracy,\n",
    "                     \"precision\": model_precision,\n",
    "                     \"recall\": model_recall,\n",
    "                     \"f1\": model_f1}\n",
    "    return model_results\n",
    "     \n"
   ]
  },
  {
   "cell_type": "code",
   "execution_count": 31,
   "id": "5d0c129a",
   "metadata": {},
   "outputs": [
    {
     "data": {
      "text/plain": [
       "{'accuracy': 0.5743713463858217,\n",
       " 'precision': 0.6698993667584683,\n",
       " 'recall': 0.5743713463858217,\n",
       " 'f1': 0.5379553014133476}"
      ]
     },
     "execution_count": 31,
     "metadata": {},
     "output_type": "execute_result"
    }
   ],
   "source": [
    "baseline_results = calculate_results(\n",
    "    y_true=y_test,\n",
    "    y_pred=baseline_preds\n",
    ")\n",
    "baseline_results"
   ]
  },
  {
   "cell_type": "markdown",
   "id": "9b477f2b",
   "metadata": {},
   "source": [
    "# random forest"
   ]
  },
  {
   "cell_type": "code",
   "execution_count": 42,
   "id": "f38751db",
   "metadata": {},
   "outputs": [],
   "source": [
    "from sklearn.ensemble import RandomForestClassifier"
   ]
  },
  {
   "cell_type": "code",
   "execution_count": 43,
   "id": "c70bc734",
   "metadata": {},
   "outputs": [
    {
     "data": {
      "text/plain": [
       "Pipeline(steps=[('tfidf', TfidfVectorizer()),\n",
       "                ('clf', RandomForestClassifier())])"
      ]
     },
     "execution_count": 43,
     "metadata": {},
     "output_type": "execute_result"
    }
   ],
   "source": [
    "model_1 = Pipeline([\n",
    "    ('tfidf', TfidfVectorizer()),\n",
    "    ('clf', RandomForestClassifier()),\n",
    "])\n",
    "\n",
    "# fit pipeline to train data\n",
    "model_1.fit(\n",
    "    X=X_train,\n",
    "    y=y_train\n",
    ")"
   ]
  },
  {
   "cell_type": "code",
   "execution_count": 44,
   "id": "5aed3a1a",
   "metadata": {},
   "outputs": [
    {
     "data": {
      "text/plain": [
       "0.6431288855896817"
      ]
     },
     "execution_count": 44,
     "metadata": {},
     "output_type": "execute_result"
    }
   ],
   "source": [
    "model_1.score(\n",
    "    X=X_test,\n",
    "    y=y_test\n",
    ")"
   ]
  },
  {
   "cell_type": "code",
   "execution_count": 45,
   "id": "234f5d3d",
   "metadata": {},
   "outputs": [
    {
     "data": {
      "text/plain": [
       "array([1, 3, 0, ..., 4, 3, 1])"
      ]
     },
     "execution_count": 45,
     "metadata": {},
     "output_type": "execute_result"
    }
   ],
   "source": [
    "baseline_preds = model_1.predict(X_test)\n",
    "baseline_preds"
   ]
  },
  {
   "cell_type": "code",
   "execution_count": 46,
   "id": "0688d498",
   "metadata": {},
   "outputs": [],
   "source": [
    "from sklearn.metrics import accuracy_score, precision_recall_fscore_support\n",
    "\n",
    "def calculate_results(y_true, y_pred):\n",
    "    model_accuracy = accuracy_score(y_true, y_pred)\n",
    "    model_precision, model_recall, model_f1, _ = precision_recall_fscore_support(y_true, y_pred, average=\"weighted\")\n",
    "    model_results = {\"accuracy\": model_accuracy,\n",
    "                     \"precision\": model_precision,\n",
    "                     \"recall\": model_recall,\n",
    "                     \"f1\": model_f1}\n",
    "    return model_results\n",
    "     \n"
   ]
  },
  {
   "cell_type": "code",
   "execution_count": 47,
   "id": "a392ef98",
   "metadata": {},
   "outputs": [
    {
     "data": {
      "text/plain": [
       "{'accuracy': 0.6431288855896817,\n",
       " 'precision': 0.643282098765065,\n",
       " 'recall': 0.6431288855896817,\n",
       " 'f1': 0.6405743022006938}"
      ]
     },
     "execution_count": 47,
     "metadata": {},
     "output_type": "execute_result"
    }
   ],
   "source": [
    "baseline_results = calculate_results(\n",
    "    y_true=y_test,\n",
    "    y_pred=baseline_preds\n",
    ")\n",
    "baseline_results"
   ]
  },
  {
   "cell_type": "markdown",
   "id": "16f01c44",
   "metadata": {},
   "source": [
    "# Logistic Regression"
   ]
  },
  {
   "cell_type": "code",
   "execution_count": 34,
   "id": "66e9ae30",
   "metadata": {},
   "outputs": [],
   "source": [
    "from sklearn.linear_model import LogisticRegression"
   ]
  },
  {
   "cell_type": "code",
   "execution_count": 35,
   "id": "327a7611",
   "metadata": {},
   "outputs": [
    {
     "name": "stderr",
     "output_type": "stream",
     "text": [
      "/Users/tasia/opt/anaconda3/lib/python3.9/site-packages/sklearn/linear_model/_logistic.py:814: ConvergenceWarning: lbfgs failed to converge (status=1):\n",
      "STOP: TOTAL NO. of ITERATIONS REACHED LIMIT.\n",
      "\n",
      "Increase the number of iterations (max_iter) or scale the data as shown in:\n",
      "    https://scikit-learn.org/stable/modules/preprocessing.html\n",
      "Please also refer to the documentation for alternative solver options:\n",
      "    https://scikit-learn.org/stable/modules/linear_model.html#logistic-regression\n",
      "  n_iter_i = _check_optimize_result(\n"
     ]
    },
    {
     "data": {
      "text/plain": [
       "Pipeline(steps=[('tfidf', TfidfVectorizer()), ('clf', LogisticRegression())])"
      ]
     },
     "execution_count": 35,
     "metadata": {},
     "output_type": "execute_result"
    }
   ],
   "source": [
    "model_2 = Pipeline([\n",
    "    ('tfidf', TfidfVectorizer()),\n",
    "    ('clf', LogisticRegression()),\n",
    "])\n",
    "\n",
    "# fit pipeline to train data\n",
    "model_2.fit(\n",
    "    X=X_train,\n",
    "    y=y_train\n",
    ")"
   ]
  },
  {
   "cell_type": "code",
   "execution_count": 36,
   "id": "a3f00ec3",
   "metadata": {},
   "outputs": [
    {
     "data": {
      "text/plain": [
       "0.6909158392873712"
      ]
     },
     "execution_count": 36,
     "metadata": {},
     "output_type": "execute_result"
    }
   ],
   "source": [
    "model_2.score(\n",
    "    X=X_test,\n",
    "    y=y_test\n",
    ")"
   ]
  },
  {
   "cell_type": "code",
   "execution_count": 37,
   "id": "01672159",
   "metadata": {},
   "outputs": [
    {
     "data": {
      "text/plain": [
       "array([1, 3, 0, ..., 0, 4, 1])"
      ]
     },
     "execution_count": 37,
     "metadata": {},
     "output_type": "execute_result"
    }
   ],
   "source": [
    "baseline_preds = model_2.predict(X_test)\n",
    "baseline_preds"
   ]
  },
  {
   "cell_type": "code",
   "execution_count": 38,
   "id": "8aa6b7fb",
   "metadata": {},
   "outputs": [],
   "source": [
    "from sklearn.metrics import accuracy_score, precision_recall_fscore_support\n",
    "\n",
    "def calculate_results(y_true, y_pred):\n",
    "    model_accuracy = accuracy_score(y_true, y_pred)\n",
    "    model_precision, model_recall, model_f1, _ = precision_recall_fscore_support(y_true, y_pred, average=\"weighted\")\n",
    "    model_results = {\"accuracy\": model_accuracy,\n",
    "                     \"precision\": model_precision,\n",
    "                     \"recall\": model_recall,\n",
    "                     \"f1\": model_f1}\n",
    "    return model_results"
   ]
  },
  {
   "cell_type": "code",
   "execution_count": 39,
   "id": "5d4fda3b",
   "metadata": {},
   "outputs": [
    {
     "data": {
      "text/plain": [
       "{'accuracy': 0.6909158392873712,\n",
       " 'precision': 0.6939174320240229,\n",
       " 'recall': 0.6909158392873712,\n",
       " 'f1': 0.6919055511855386}"
      ]
     },
     "execution_count": 39,
     "metadata": {},
     "output_type": "execute_result"
    }
   ],
   "source": [
    "baseline_results = calculate_results(\n",
    "    y_true=y_test,\n",
    "    y_pred=baseline_preds\n",
    ")\n",
    "baseline_results"
   ]
  },
  {
   "cell_type": "markdown",
   "id": "42f08c36",
   "metadata": {},
   "source": [
    "# MLP"
   ]
  },
  {
   "cell_type": "code",
   "execution_count": 67,
   "id": "a40da594",
   "metadata": {},
   "outputs": [],
   "source": [
    "from sklearn.neural_network import MLPClassifier"
   ]
  },
  {
   "cell_type": "code",
   "execution_count": 68,
   "id": "fb3f694d",
   "metadata": {},
   "outputs": [
    {
     "data": {
      "text/plain": [
       "Pipeline(steps=[('tfidf', TfidfVectorizer()), ('clf', MLPClassifier())])"
      ]
     },
     "execution_count": 68,
     "metadata": {},
     "output_type": "execute_result"
    }
   ],
   "source": [
    "model_3 = Pipeline([\n",
    "    ('tfidf', TfidfVectorizer()),\n",
    "    ('clf', MLPClassifier()),\n",
    "])\n",
    "\n",
    "# fit pipeline to train data\n",
    "model_3.fit(\n",
    "    X=X_train,\n",
    "    y=y_train\n",
    ")"
   ]
  },
  {
   "cell_type": "code",
   "execution_count": 69,
   "id": "de4cb5ad",
   "metadata": {},
   "outputs": [
    {
     "data": {
      "text/plain": [
       "0.6586248492159228"
      ]
     },
     "execution_count": 69,
     "metadata": {},
     "output_type": "execute_result"
    }
   ],
   "source": [
    "model_3.score(\n",
    "    X=X_test,\n",
    "    y=y_test\n",
    ")"
   ]
  },
  {
   "cell_type": "code",
   "execution_count": 70,
   "id": "731c4782",
   "metadata": {},
   "outputs": [
    {
     "data": {
      "text/plain": [
       "array([1, 3, 0, ..., 0, 4, 1])"
      ]
     },
     "execution_count": 70,
     "metadata": {},
     "output_type": "execute_result"
    }
   ],
   "source": [
    "baseline_preds = model_3.predict(X_test)\n",
    "baseline_preds"
   ]
  },
  {
   "cell_type": "code",
   "execution_count": 71,
   "id": "416c35f6",
   "metadata": {},
   "outputs": [],
   "source": [
    "from sklearn.metrics import accuracy_score, precision_recall_fscore_support\n",
    "\n",
    "def calculate_results(y_true, y_pred):\n",
    "    model_accuracy = accuracy_score(y_true, y_pred)\n",
    "    model_precision, model_recall, model_f1, _ = precision_recall_fscore_support(y_true, y_pred, average=\"weighted\")\n",
    "    model_results = {\"accuracy\": model_accuracy,\n",
    "                     \"precision\": model_precision,\n",
    "                     \"recall\": model_recall,\n",
    "                     \"f1\": model_f1}\n",
    "    return model_results"
   ]
  },
  {
   "cell_type": "code",
   "execution_count": 72,
   "id": "c7a7a6d5",
   "metadata": {},
   "outputs": [
    {
     "data": {
      "text/plain": [
       "{'accuracy': 0.6586248492159228,\n",
       " 'precision': 0.6721677177632811,\n",
       " 'recall': 0.6586248492159228,\n",
       " 'f1': 0.6641933069731084}"
      ]
     },
     "execution_count": 72,
     "metadata": {},
     "output_type": "execute_result"
    }
   ],
   "source": [
    "baseline_results = calculate_results(\n",
    "    y_true=y_test,\n",
    "    y_pred=baseline_preds\n",
    ")\n",
    "baseline_results"
   ]
  },
  {
   "cell_type": "markdown",
   "id": "4259be70",
   "metadata": {},
   "source": [
    "# SVC"
   ]
  },
  {
   "cell_type": "code",
   "execution_count": 50,
   "id": "e21ae081",
   "metadata": {},
   "outputs": [],
   "source": [
    "from sklearn.svm import SVC"
   ]
  },
  {
   "cell_type": "code",
   "execution_count": 51,
   "id": "4bf672d9",
   "metadata": {},
   "outputs": [
    {
     "data": {
      "text/plain": [
       "Pipeline(steps=[('tfidf', TfidfVectorizer()), ('clf', SVC())])"
      ]
     },
     "execution_count": 51,
     "metadata": {},
     "output_type": "execute_result"
    }
   ],
   "source": [
    "model_4 = Pipeline([\n",
    "    ('tfidf', TfidfVectorizer()),\n",
    "    ('clf', SVC()),\n",
    "])\n",
    "\n",
    "# fit pipeline to train data\n",
    "model_4.fit(\n",
    "    X=X_train,\n",
    "    y=y_train\n",
    ")"
   ]
  },
  {
   "cell_type": "code",
   "execution_count": 52,
   "id": "e20c8562",
   "metadata": {},
   "outputs": [
    {
     "data": {
      "text/plain": [
       "0.6877609724413102"
      ]
     },
     "execution_count": 52,
     "metadata": {},
     "output_type": "execute_result"
    }
   ],
   "source": [
    "model_4.score(\n",
    "    X=X_test,\n",
    "    y=y_test\n",
    ")"
   ]
  },
  {
   "cell_type": "code",
   "execution_count": 53,
   "id": "38e887ce",
   "metadata": {},
   "outputs": [
    {
     "data": {
      "text/plain": [
       "array([1, 3, 0, ..., 4, 4, 1])"
      ]
     },
     "execution_count": 53,
     "metadata": {},
     "output_type": "execute_result"
    }
   ],
   "source": [
    "baseline_preds = model_4.predict(X_test)\n",
    "baseline_preds"
   ]
  },
  {
   "cell_type": "code",
   "execution_count": 54,
   "id": "de68de2e",
   "metadata": {},
   "outputs": [],
   "source": [
    "from sklearn.metrics import accuracy_score, precision_recall_fscore_support\n",
    "\n",
    "def calculate_results(y_true, y_pred):\n",
    "    model_accuracy = accuracy_score(y_true, y_pred)\n",
    "    model_precision, model_recall, model_f1, _ = precision_recall_fscore_support(y_true, y_pred, average=\"weighted\")\n",
    "    model_results = {\"accuracy\": model_accuracy,\n",
    "                     \"precision\": model_precision,\n",
    "                     \"recall\": model_recall,\n",
    "                     \"f1\": model_f1}\n",
    "    return model_results"
   ]
  },
  {
   "cell_type": "code",
   "execution_count": 55,
   "id": "b6288456",
   "metadata": {},
   "outputs": [
    {
     "data": {
      "text/plain": [
       "{'accuracy': 0.6877609724413102,\n",
       " 'precision': 0.6973055675009815,\n",
       " 'recall': 0.6877609724413102,\n",
       " 'f1': 0.691368294904278}"
      ]
     },
     "execution_count": 55,
     "metadata": {},
     "output_type": "execute_result"
    }
   ],
   "source": [
    "baseline_results = calculate_results(\n",
    "    y_true=y_test,\n",
    "    y_pred=baseline_preds\n",
    ")\n",
    "baseline_results"
   ]
  },
  {
   "cell_type": "markdown",
   "id": "a0d861d4",
   "metadata": {},
   "source": [
    "# decision tree classifier"
   ]
  },
  {
   "cell_type": "code",
   "execution_count": 58,
   "id": "7993ddec",
   "metadata": {},
   "outputs": [],
   "source": [
    "from sklearn.tree import DecisionTreeClassifier"
   ]
  },
  {
   "cell_type": "code",
   "execution_count": 59,
   "id": "bfcb74f4",
   "metadata": {},
   "outputs": [
    {
     "data": {
      "text/plain": [
       "Pipeline(steps=[('tfidf', TfidfVectorizer()),\n",
       "                ('clf', DecisionTreeClassifier())])"
      ]
     },
     "execution_count": 59,
     "metadata": {},
     "output_type": "execute_result"
    }
   ],
   "source": [
    "model_5 = Pipeline([\n",
    "    ('tfidf', TfidfVectorizer()),\n",
    "    ('clf', DecisionTreeClassifier()),\n",
    "])\n",
    "\n",
    "# fit pipeline to train data\n",
    "model_5.fit(\n",
    "    X=X_train,\n",
    "    y=y_train\n",
    ")"
   ]
  },
  {
   "cell_type": "code",
   "execution_count": 60,
   "id": "c1235a1d",
   "metadata": {},
   "outputs": [
    {
     "data": {
      "text/plain": [
       "0.48696297670965943"
      ]
     },
     "execution_count": 60,
     "metadata": {},
     "output_type": "execute_result"
    }
   ],
   "source": [
    "model_5.score(\n",
    "    X=X_test,\n",
    "    y=y_test\n",
    ")"
   ]
  },
  {
   "cell_type": "code",
   "execution_count": 61,
   "id": "8395cb57",
   "metadata": {},
   "outputs": [
    {
     "data": {
      "text/plain": [
       "array([0, 3, 3, ..., 3, 1, 1])"
      ]
     },
     "execution_count": 61,
     "metadata": {},
     "output_type": "execute_result"
    }
   ],
   "source": [
    "baseline_preds = model_5.predict(X_test)\n",
    "baseline_preds"
   ]
  },
  {
   "cell_type": "code",
   "execution_count": 62,
   "id": "cc27a880",
   "metadata": {},
   "outputs": [],
   "source": [
    "from sklearn.metrics import accuracy_score, precision_recall_fscore_support\n",
    "\n",
    "def calculate_results(y_true, y_pred):\n",
    "    model_accuracy = accuracy_score(y_true, y_pred)\n",
    "    model_precision, model_recall, model_f1, _ = precision_recall_fscore_support(y_true, y_pred, average=\"weighted\")\n",
    "    model_results = {\"accuracy\": model_accuracy,\n",
    "                     \"precision\": model_precision,\n",
    "                     \"recall\": model_recall,\n",
    "                     \"f1\": model_f1}\n",
    "    return model_results"
   ]
  },
  {
   "cell_type": "code",
   "execution_count": 63,
   "id": "b94759d1",
   "metadata": {},
   "outputs": [
    {
     "data": {
      "text/plain": [
       "{'accuracy': 0.48696297670965943,\n",
       " 'precision': 0.49303516807057324,\n",
       " 'recall': 0.48696297670965943,\n",
       " 'f1': 0.4897874900791356}"
      ]
     },
     "execution_count": 63,
     "metadata": {},
     "output_type": "execute_result"
    }
   ],
   "source": [
    "baseline_results = calculate_results(\n",
    "    y_true=y_test,\n",
    "    y_pred=baseline_preds\n",
    ")\n",
    "baseline_results"
   ]
  }
 ],
 "metadata": {
  "kernelspec": {
   "display_name": "Python 3 (ipykernel)",
   "language": "python",
   "name": "python3"
  },
  "language_info": {
   "codemirror_mode": {
    "name": "ipython",
    "version": 3
   },
   "file_extension": ".py",
   "mimetype": "text/x-python",
   "name": "python",
   "nbconvert_exporter": "python",
   "pygments_lexer": "ipython3",
   "version": "3.9.12"
  }
 },
 "nbformat": 4,
 "nbformat_minor": 5
}
